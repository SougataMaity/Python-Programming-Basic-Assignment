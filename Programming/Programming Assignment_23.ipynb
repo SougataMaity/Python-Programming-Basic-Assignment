{
 "cells": [
  {
   "cell_type": "code",
   "execution_count": 1,
   "id": "1f88ac7e",
   "metadata": {},
   "outputs": [
    {
     "name": "stdout",
     "output_type": "stream",
     "text": [
      "True 7227 is symmetrical\n",
      "False the 12567 is not symmetrical\n",
      "False the 9939 is not symmetrical\n",
      "True 1112111 is symmetrical\n"
     ]
    }
   ],
   "source": [
    "'''Q.1 Create a function that takes a number as an argument and returns True or False dependening on whether the number is\n",
    "symmetrical or not. A number is symmetrical when it is the same as its reverse.'''\n",
    "\n",
    "def is_symmetrical(number):\n",
    "    '''True or False dependening on whether the number is symmetrical or not'''\n",
    "    \n",
    "    if str(number) == str(number)[::-1]:\n",
    "        return f'True {number} is symmetrical'\n",
    "        \n",
    "    else:\n",
    "        return f'False the {number} is not symmetrical'\n",
    "        \n",
    "print(is_symmetrical(7227))\n",
    "print(is_symmetrical(12567))\n",
    "print(is_symmetrical(9939))\n",
    "print(is_symmetrical(1112111))\n"
   ]
  },
  {
   "cell_type": "code",
   "execution_count": 12,
   "id": "9f2e6f97",
   "metadata": {},
   "outputs": [
    {
     "name": "stdout",
     "output_type": "stream",
     "text": [
      "('2, 3') ----> 6\n",
      "('54, 75, 453, 0') ----> 0\n",
      "('10, -2') ----> -20\n"
     ]
    }
   ],
   "source": [
    "'''Q.2 Given a string of numbers separated by a comma and space, return the product of the numbers'''\n",
    "\n",
    "def multiply_nums(string):\n",
    "    '''string of numbers separated by a comma and space, return the product of the numbers'''\n",
    "    \n",
    "    mul = 1\n",
    "    for i in string.split(','):\n",
    "        mul = mul * int(i)\n",
    "    return f\"('{string}') ----> {mul}\"\n",
    "\n",
    "\n",
    "print(multiply_nums('2, 3'))\n",
    "print(multiply_nums('54, 75, 453, 0'))\n",
    "print(multiply_nums('10, -2'))"
   ]
  },
  {
   "cell_type": "code",
   "execution_count": 16,
   "id": "a8b20f8f",
   "metadata": {},
   "outputs": [
    {
     "name": "stdout",
     "output_type": "stream",
     "text": [
      "9119 ----> 811181\n",
      "2483 ----> 416649\n",
      "3212 ----> 9414\n"
     ]
    }
   ],
   "source": [
    "'''Q.3 Create a function that squres every digit of a numbers'''\n",
    "\n",
    "def squre_digits(number):\n",
    "    '''squres every digit of a numbers'''\n",
    "    \n",
    "    result = ''\n",
    "    for i in str(number):\n",
    "        result = result + str(int(i)*int(i))\n",
    "        \n",
    "    return f'{number} ----> {result}'\n",
    "        \n",
    "\n",
    "print(squre_digits(9119))\n",
    "print(squre_digits(2483))\n",
    "print(squre_digits(3212))"
   ]
  },
  {
   "cell_type": "code",
   "execution_count": 19,
   "id": "afc9d295",
   "metadata": {},
   "outputs": [
    {
     "name": "stdout",
     "output_type": "stream",
     "text": [
      "[1, 3, 3, 5, 5] ----> [1, 3, 5]\n",
      "[4, 4, 4, 4] ----> [4]\n",
      "[5, 7, 8, 9, 10, 15] ----> [5, 7, 8, 9, 10, 15]\n",
      "[3, 3, 2, 1] ----> [1, 2, 3]\n"
     ]
    }
   ],
   "source": [
    "'''Q.4 Create a function that sorts a list and removes all duplicate items from it'''\n",
    "\n",
    "def setify(number):\n",
    "    '''sorts a list and removes all duplicate items '''\n",
    "    res = set(number)\n",
    "    return f'{number} ----> {list(res)}'\n",
    "\n",
    "print(setify([1,3,3,5,5]))\n",
    "print(setify([4,4,4,4]))\n",
    "print(setify([5,7,8,9,10,15]))\n",
    "print(setify([3,3,2,1]))"
   ]
  },
  {
   "cell_type": "code",
   "execution_count": 20,
   "id": "082e68bb",
   "metadata": {},
   "outputs": [
    {
     "name": "stdout",
     "output_type": "stream",
     "text": [
      "mean(42) ----> 3.0\n",
      "mean(12345) ----> 3.0\n",
      "mean(666) ----> 6.0\n"
     ]
    }
   ],
   "source": [
    "'''Q.5 Create a function that returns the mean of all digits '''\n",
    "\n",
    "def mean(number):\n",
    "    '''Mean of all digits'''\n",
    "    \n",
    "    sum = 0\n",
    "    for i in str(number):\n",
    "        sum = sum + int(i)\n",
    "        mean = sum/len(str(number))\n",
    "    \n",
    "    return f'mean({number}) ----> {mean}'\n",
    "\n",
    "print(mean(42))\n",
    "print(mean(12345))\n",
    "print(mean(666))\n",
    "    "
   ]
  }
 ],
 "metadata": {
  "kernelspec": {
   "display_name": "Python 3",
   "language": "python",
   "name": "python3"
  },
  "language_info": {
   "codemirror_mode": {
    "name": "ipython",
    "version": 3
   },
   "file_extension": ".py",
   "mimetype": "text/x-python",
   "name": "python",
   "nbconvert_exporter": "python",
   "pygments_lexer": "ipython3",
   "version": "3.8.8"
  }
 },
 "nbformat": 4,
 "nbformat_minor": 5
}
