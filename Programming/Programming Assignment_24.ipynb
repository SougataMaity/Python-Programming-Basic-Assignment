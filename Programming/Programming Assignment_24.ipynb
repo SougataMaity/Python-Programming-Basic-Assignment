{
 "cells": [
  {
   "cell_type": "code",
   "execution_count": 6,
   "id": "4757d3d6",
   "metadata": {},
   "outputs": [
    {
     "name": "stdout",
     "output_type": "stream",
     "text": [
      "amplify(4) ----> [1, 2, 3, 40]\n",
      "amplify(3) ----> [1, 2, 3]\n",
      "amplify(25) ----> [1, 2, 3, 40, 5, 6, 7, 80, 9, 10, 11, 120, 13, 14, 15, 160, 17, 18, 19, 200, 21, 22, 23, 240, 25]\n"
     ]
    }
   ],
   "source": [
    "'''Q.1 Creat a function that takes an integer and returns a list from 1 to given number where\n",
    "    1. If the number can be divided evenly by 4, amplify it by 10 (i.e return 10 times the number)\n",
    "    2. If the number cannot be divided evenly by 4 simply return the number '''\n",
    "\n",
    "def amplify(number):\n",
    "    '''the number can be divided evenly by 4, amplify it by 10\n",
    "    the number cannot be divided evenly by 4 simply return the number'''\n",
    "    \n",
    "    list1 = []\n",
    "    for i in range(1, number+1):\n",
    "        if i%4 == 0:\n",
    "            list1.append(i*10)    \n",
    "        else:\n",
    "            list1.append(i)\n",
    "    return f'amplify({number}) ----> {list1}'\n",
    "\n",
    "\n",
    "print(amplify(4))\n",
    "print(amplify(3))\n",
    "print(amplify(25))"
   ]
  },
  {
   "cell_type": "code",
   "execution_count": 21,
   "id": "925ab513",
   "metadata": {},
   "outputs": [
    {
     "name": "stdout",
     "output_type": "stream",
     "text": [
      "unique([3, 3, 3, 7, 3, 3]) ----> 7\n",
      "unique([0, 0, 0.77, 0, 0]) ----> 0.77\n",
      "unique([0, 1, 1, 1, 1, 1, 1]) ----> 0\n"
     ]
    }
   ],
   "source": [
    "'''Q.2 Create a function that takes a list of numbers and return the number that's unique.'''\n",
    "\n",
    "def unique(list1):\n",
    "    '''List to return Unique number'''\n",
    "    \n",
    "    list_set = set(list1)\n",
    "    for i in list1:\n",
    "        if list1.count(i) == 1:\n",
    "            return f'unique({list1}) ----> {i}'\n",
    "\n",
    "print(unique([3,3,3,7,3,3]))\n",
    "print(unique([0,0,0.77,0,0]))\n",
    "print(unique([0,1,1,1,1,1,1]))\n",
    "    "
   ]
  },
  {
   "cell_type": "code",
   "execution_count": 34,
   "id": "eee4535b",
   "metadata": {},
   "outputs": [
    {
     "data": {
      "text/plain": [
       "'Circle Redious 11 so Area is 380.132711084365'"
      ]
     },
     "execution_count": 34,
     "metadata": {},
     "output_type": "execute_result"
    }
   ],
   "source": [
    "'''Q.3 Your task is to create a Circle constructor that creates a circle with a radius provided by anargument.\n",
    "The circles constructed must have two getters getArea() (PIr^2) and getPerimeter() (2PI*r) \n",
    "which give both respective areas and perimeter (circumference).'''\n",
    "\n",
    "import math\n",
    "class circle:\n",
    "    def getArea(r):\n",
    "        '''Area of a Circle'''\n",
    "        area = math.pi*r**2\n",
    "        return f'Circle Redious {r} so Area is {area}'\n",
    "    \n",
    "circle.getArea(11)"
   ]
  },
  {
   "cell_type": "code",
   "execution_count": 51,
   "id": "d3c7e1af",
   "metadata": {},
   "outputs": [
    {
     "name": "stdout",
     "output_type": "stream",
     "text": [
      "['Apple', 'Google', 'Microsoft']\n",
      "['Raphael', 'Leonardo', 'Donatello', 'Michelangelo']\n",
      "['Jung', 'Turing', 'Einstein']\n"
     ]
    }
   ],
   "source": [
    "'''Q.4 Creat a function that takes a list of strings and return a list, sorted from shortest to longest.'''\n",
    "\n",
    "def sort_by_length(list1):\n",
    "    '''list of strings and return a list, sorted from shortest to longest'''\n",
    "    \n",
    "    for i in range(len(list1)):\n",
    "        for j in range(i+1, len(list1)):\n",
    "            if len(list1[i]) > len(list1[j]):\n",
    "                list1[i],list1[j] = list1[j],list1[i]\n",
    "    return list1\n",
    "    \n",
    "\n",
    "print(sort_by_length(['Google', 'Apple', 'Microsoft']))\n",
    "print(sort_by_length(['Leonardo', 'Michelangelo', 'Raphael','Donatello']))\n",
    "print(sort_by_length(['Jung', 'Turing', 'Einstein']))\n"
   ]
  },
  {
   "cell_type": "code",
   "execution_count": 54,
   "id": "04522602",
   "metadata": {},
   "outputs": [
    {
     "name": "stdout",
     "output_type": "stream",
     "text": [
      "True its a (3, 4, 5) pythagorean triplet\n",
      "False its (13, 5, 12) not a pythagorean triplet\n",
      "False its (1, 2, 3) not a pythagorean triplet\n"
     ]
    }
   ],
   "source": [
    "'''Q.5 Create a function that validates whether three given intergers from a pythagorean triplet.'''\n",
    "\n",
    "def is_triplet(a,b,c):\n",
    "    '''three given intergers from a pythagorean triplet or not '''\n",
    "    \n",
    "    if a<=c and b<=c:\n",
    "        if a*a + b*b == c*c:\n",
    "            print(f'True its a {a,b,c} pythagorean triplet')\n",
    "        else:\n",
    "            print(f'False its {a,b,c} not a pythagorean triplet')\n",
    "            \n",
    "    if a<=b and c<=b:\n",
    "        if a*a + c*c == b*b:\n",
    "            print(f'True its {a,b,c} a pythagorean triplet')\n",
    "        else:\n",
    "            print(f'False its {a,b,c} not a pythagorean triplet')\n",
    "    \n",
    "    if b<=a and c<=a:\n",
    "        if a*a + b*b == c*c:\n",
    "            print(f'True its {a,b,c} a pythagorean triplet')\n",
    "        else:\n",
    "            print(f'False its {a,b,c} not a pythagorean triplet')\n",
    "\n",
    "is_triplet(3,4,5)\n",
    "is_triplet(13,5,12)\n",
    "is_triplet(1,2,3)"
   ]
  }
 ],
 "metadata": {
  "kernelspec": {
   "display_name": "Python 3",
   "language": "python",
   "name": "python3"
  },
  "language_info": {
   "codemirror_mode": {
    "name": "ipython",
    "version": 3
   },
   "file_extension": ".py",
   "mimetype": "text/x-python",
   "name": "python",
   "nbconvert_exporter": "python",
   "pygments_lexer": "ipython3",
   "version": "3.8.8"
  }
 },
 "nbformat": 4,
 "nbformat_minor": 5
}
