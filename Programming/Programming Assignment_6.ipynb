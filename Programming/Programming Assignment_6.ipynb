{
 "cells": [
  {
   "cell_type": "code",
   "execution_count": 57,
   "id": "9edb8d9f",
   "metadata": {},
   "outputs": [
    {
     "name": "stdout",
     "output_type": "stream",
     "text": [
      "1 2 3 5 8 13 21 34 55 89 144 233 377 610 "
     ]
    }
   ],
   "source": [
    "'''Q.1 Write a Python Program to Display Fibonacci Sequence Using Recursion'''\n",
    "\n",
    "def fibonacci_seq(n):\n",
    "    ''' '''\n",
    "    a = 1\n",
    "    b = 1\n",
    "    for i in range(1,15):\n",
    "        a,b = b, a+b\n",
    "        print(a , end = ' ')\n",
    "\n",
    "fibonacci_seq(15)"
   ]
  },
  {
   "cell_type": "code",
   "execution_count": 56,
   "id": "6e601d27",
   "metadata": {},
   "outputs": [
    {
     "data": {
      "text/plain": [
       "120"
      ]
     },
     "execution_count": 56,
     "metadata": {},
     "output_type": "execute_result"
    }
   ],
   "source": [
    "'''Q.2 Write a Python Program to Find Factorial of Number Using Recursion'''\n",
    "\n",
    "def factorial(n):\n",
    "    '''Factorial of Number Using Recursion'''\n",
    "    \n",
    "    if n<0 : \n",
    "        return 'Please enter non negative number'\n",
    "    elif n == 0:\n",
    "        fac = 1\n",
    "        return fac\n",
    "    \n",
    "    elif n == 1 :\n",
    "        fac =  1\n",
    "        return fac\n",
    "    else:\n",
    "        fac =  n*factorial(n-1)\n",
    "        return fac\n",
    "    \n",
    "    return fac\n",
    "\n",
    "factorial(5)"
   ]
  },
  {
   "cell_type": "code",
   "execution_count": 19,
   "id": "deb613ad",
   "metadata": {},
   "outputs": [
    {
     "name": "stdout",
     "output_type": "stream",
     "text": [
      "Please enter your height(m) : 5.5\n",
      "Please enter your weight(kg) : 51\n",
      "Your height is 5.5 m and weight is 51.0 kg so BMI is 1.69\n"
     ]
    }
   ],
   "source": [
    "'''Q.3 Write a python program to calculate bidy mass index'''\n",
    "\n",
    "\n",
    "height = float(input('Please enter your height(m) : '))\n",
    "weight = float(input('Please enter your weight(kg) : '))\n",
    "\n",
    "bmi = weight/ (height * height)\n",
    "print(f'Your height is {height} m and weight is {weight} kg so BMI is {round(bmi, 2)}')"
   ]
  },
  {
   "cell_type": "code",
   "execution_count": 10,
   "id": "4de99f7b",
   "metadata": {},
   "outputs": [
    {
     "name": "stdout",
     "output_type": "stream",
     "text": [
      "Please enter a number : 14\n",
      "Natural logarithm of 14 is 2.6390573296152584\n"
     ]
    }
   ],
   "source": [
    "'''Q.4 Write a python program to calculate Natural logarithm of a number'''\n",
    "\n",
    "import math\n",
    "n = int(input('Please enter a number : '))\n",
    "print(f'Natural logarithm of {n} is {math.log(n)}')\n"
   ]
  },
  {
   "cell_type": "code",
   "execution_count": 4,
   "id": "6edf8ec7",
   "metadata": {},
   "outputs": [
    {
     "name": "stdout",
     "output_type": "stream",
     "text": [
      "please a value : 4\n"
     ]
    },
    {
     "data": {
      "text/plain": [
       "'Cube of first 4 numbers is 100'"
      ]
     },
     "execution_count": 4,
     "metadata": {},
     "output_type": "execute_result"
    }
   ],
   "source": [
    "'''Q.5 Write a python program for cube sum of first n natural numbers'''\n",
    "\n",
    "def cube_sum_n(n):\n",
    "    \n",
    "    n_cube = ((n*(n+1))/2)**2\n",
    "    return f'Cube of first {n} numbers is {int(n_cube)}'\n",
    "\n",
    "n = int(input('please a value : '))\n",
    "cube_sum_n(n)"
   ]
  }
 ],
 "metadata": {
  "kernelspec": {
   "display_name": "Python 3",
   "language": "python",
   "name": "python3"
  },
  "language_info": {
   "codemirror_mode": {
    "name": "ipython",
    "version": 3
   },
   "file_extension": ".py",
   "mimetype": "text/x-python",
   "name": "python",
   "nbconvert_exporter": "python",
   "pygments_lexer": "ipython3",
   "version": "3.8.8"
  }
 },
 "nbformat": 4,
 "nbformat_minor": 5
}
