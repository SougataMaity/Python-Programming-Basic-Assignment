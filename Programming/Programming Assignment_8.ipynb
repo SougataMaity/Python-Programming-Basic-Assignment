{
 "cells": [
  {
   "cell_type": "code",
   "execution_count": 87,
   "id": "cc898eb8",
   "metadata": {},
   "outputs": [
    {
     "data": {
      "text/plain": [
       "array([[17, 15,  4],\n",
       "       [10, 12,  9],\n",
       "       [11, 13, 18]])"
      ]
     },
     "execution_count": 87,
     "metadata": {},
     "output_type": "execute_result"
    }
   ],
   "source": [
    "'''Q.1 Write a Python Program to Add Two Matrices'''\n",
    "\n",
    "import numpy as np\n",
    "def matrix_add(matrix1, matrix2):\n",
    "    '''Add Two Matrices'''\n",
    "    \n",
    "    row = np.array(matrix1).shape[0]\n",
    "    column = np.array(matrix1).shape[1]\n",
    "    \n",
    "    result = np.array([[0]*row]*column)\n",
    "    for i in range(len(matrix1)):\n",
    "        for j in range(len(matrix1[0])):\n",
    "            result[i][j] = matrix1[i][j] + matrix2[i][j]\n",
    "    \n",
    "    return np.array(result)\n",
    "\n",
    "matrix1 = [[12,7,3],[4 ,5,6],[7 ,8,9]]\n",
    "matrix2 = [[5,8,1],[6,7,3],[4,5,9]]\n",
    "\n",
    "\n",
    "matrix_add(matrix1, matrix2)"
   ]
  },
  {
   "cell_type": "code",
   "execution_count": 82,
   "id": "6f672ca7",
   "metadata": {},
   "outputs": [
    {
     "data": {
      "text/plain": [
       "array([[26, 26, 29],\n",
       "       [57, 58, 62],\n",
       "       [28, 30, 35]])"
      ]
     },
     "execution_count": 82,
     "metadata": {},
     "output_type": "execute_result"
    }
   ],
   "source": [
    "'''Q.2 Write a Python Program to Multiply Two Matrices'''                              \n",
    "\n",
    "import numpy as np\n",
    "def matrix_matiplication(matrix1, matrix2):\n",
    "    '''Multiply Two Matrices'''\n",
    "    \n",
    "    try:\n",
    "        m1_row = np.array(matrix1).shape[0]\n",
    "        m1_column = np.array(matrix1).shape[1]\n",
    "\n",
    "        m2_row = np.array(matrix2).shape[0]\n",
    "        m2_column = np.array(matrix2).shape[1]\n",
    "\n",
    "        if m1_column == m2_row:\n",
    "            matrix = np.array([[0]*m1_row]*m2_column)\n",
    "            for i in range(len(matrix1)):\n",
    "                for j in range(len(matrix2[0])):\n",
    "                    for k in range(len(matrix2)):\n",
    "                        matrix[i][j] += matrix1[i][k] * matrix2[k][j]\n",
    "            \n",
    "            return(np.array(matrix))\n",
    "\n",
    "        else:\n",
    "            print('Matrix 1 column not same on matrix 2 row')\n",
    "\n",
    "    except IndexError:\n",
    "        print('Matrix value input wrong')\n",
    "\n",
    "\n",
    "\n",
    "matrix1 = [[1,2,3],[3,4,6],[1,2,5]]\n",
    "matrix2 = [[5,6,4],[9,7,8],[1,2,3]]\n",
    "\n",
    "matrix_matiplication(matrix1, matrix2)\n"
   ]
  },
  {
   "cell_type": "code",
   "execution_count": 22,
   "id": "9ba8b5d4",
   "metadata": {},
   "outputs": [
    {
     "data": {
      "text/plain": [
       "array([[1, 3, 6],\n",
       "       [2, 4, 7]])"
      ]
     },
     "execution_count": 22,
     "metadata": {},
     "output_type": "execute_result"
    }
   ],
   "source": [
    "'''Q.3 Write a Python Program to Transpose a Matrix'''\n",
    "\n",
    "import numpy as np\n",
    "def matrix_transpose(matrix):\n",
    "    '''Matrix Transpose'''\n",
    "    \n",
    "    matrix = np.array(matrix)\n",
    "    row = matrix.shape[0]\n",
    "    column = matrix.shape[1]\n",
    "    result = np.array([[0]*row]*column)\n",
    "    \n",
    "    for j in range(len(matrix)):\n",
    "        for i in range(len(matrix[0])):\n",
    "            result[i][j] = matrix[j][i]\n",
    "            \n",
    "    return result\n",
    "\n",
    "mat = [[1,2],[3,4],[6,7]]\n",
    "\n",
    "matrix_transpose(mat)"
   ]
  },
  {
   "cell_type": "code",
   "execution_count": 60,
   "id": "d10d6a86",
   "metadata": {},
   "outputs": [
    {
     "data": {
      "text/plain": [
       "'Saaeginnoortuu'"
      ]
     },
     "execution_count": 60,
     "metadata": {},
     "output_type": "execute_result"
    }
   ],
   "source": [
    "'''Q.4 Write a Python Program to Sort Words in Alphabetic Order'''\n",
    "\n",
    "def sort(str1):\n",
    "    '''Sort word in alphabetic order'''\n",
    "    res = ''\n",
    "    for i in sorted(str1):\n",
    "        res = res + i\n",
    "    return res\n",
    "\n",
    "str1 = 'Sougataineuron'\n",
    "sort(str1)\n"
   ]
  },
  {
   "cell_type": "code",
   "execution_count": 69,
   "id": "bf671360",
   "metadata": {},
   "outputs": [
    {
     "data": {
      "text/plain": [
       "'A boy love a girl '"
      ]
     },
     "execution_count": 69,
     "metadata": {},
     "output_type": "execute_result"
    }
   ],
   "source": [
    "'''Q.5 Write a Python Program to Remove Punctuation From a String'''\n",
    "\n",
    "def remove_punctuation(str1):\n",
    "    '''Remove Punctuation from a string'''\n",
    "    \n",
    "    punctuation = '!?@#$%&'\n",
    "    res = ''\n",
    "    for i in str1:\n",
    "        if i not in punctuation:\n",
    "            res = res + i\n",
    "            \n",
    "    return res   \n",
    "        \n",
    "str1 = 'A boy! love?@ a girl $'\n",
    "remove_punctuation(str1)"
   ]
  }
 ],
 "metadata": {
  "kernelspec": {
   "display_name": "Python 3",
   "language": "python",
   "name": "python3"
  },
  "language_info": {
   "codemirror_mode": {
    "name": "ipython",
    "version": 3
   },
   "file_extension": ".py",
   "mimetype": "text/x-python",
   "name": "python",
   "nbconvert_exporter": "python",
   "pygments_lexer": "ipython3",
   "version": "3.8.8"
  }
 },
 "nbformat": 4,
 "nbformat_minor": 5
}
