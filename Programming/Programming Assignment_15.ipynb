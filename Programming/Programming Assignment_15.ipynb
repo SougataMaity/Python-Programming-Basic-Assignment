{
 "cells": [
  {
   "cell_type": "code",
   "execution_count": 13,
   "id": "e0b50211",
   "metadata": {},
   "outputs": [
    {
     "name": "stdout",
     "output_type": "stream",
     "text": [
      "Please enter a number : 100\n",
      "0, 35, 70\n"
     ]
    }
   ],
   "source": [
    "'''Q.1\n",
    "Please write a program using generator to print the numbers which can be divisible by 5 and 7 between 0 to n\n",
    "'''\n",
    "n = int(input('Please enter a number : '))\n",
    "\n",
    "result = []\n",
    "for i in range(0,n+1):\n",
    "    if i%7 == 0 and i%5 == 0:\n",
    "        result.append(i)\n",
    "        \n",
    "print(str(result)[1:-1])"
   ]
  },
  {
   "cell_type": "code",
   "execution_count": 20,
   "id": "8ba3cad5",
   "metadata": {},
   "outputs": [
    {
     "name": "stdout",
     "output_type": "stream",
     "text": [
      "Please enter a number : 10\n",
      "0, 2, 4, 6, 8, 10\n"
     ]
    }
   ],
   "source": [
    "'''Q.2\n",
    "Please write a program using generator to print the even numbers between 0 and n in comma seperated from while \n",
    "n is input by console'''\n",
    "\n",
    "n = int(input('Please enter a number : '))\n",
    "\n",
    "result = []\n",
    "for i in range(0,n+1):\n",
    "    if i%2 == 0:\n",
    "        result.append(i)\n",
    "    \n",
    "print(str(result)[1:-1])"
   ]
  },
  {
   "cell_type": "code",
   "execution_count": 93,
   "id": "2b0aa769",
   "metadata": {},
   "outputs": [
    {
     "name": "stdout",
     "output_type": "stream",
     "text": [
      "Fibonacci sequence : \n",
      "0 1 1 2 3 5 8 13 "
     ]
    }
   ],
   "source": [
    "'''Q.3 The Fibonacci Sequence is computed based on the following formula:\n",
    "    f(n)=0 if n=0\n",
    "    f(n)=1 if n=1\n",
    "    f(n)=f(n-1)+f(n-2) if n>1\n",
    "Please write a program using list comprehension to print the Fibonacci Sequence in comma\n",
    "separated form with a given n input by console.'''\n",
    "\n",
    "\n",
    "def f(n):\n",
    "    \n",
    "    if n == 0:\n",
    "        return 0\n",
    "    elif n==1 or n == 2:\n",
    "        return 1\n",
    "    else:\n",
    "        return f(n-1) + f(n-2)\n",
    "    \n",
    "print('Fibonacci sequence : ') \n",
    "for i in range(n+1):\n",
    "    print (f(i), end = ' ')\n",
    "\n",
    "n = 7"
   ]
  },
  {
   "cell_type": "code",
   "execution_count": 91,
   "id": "fd6be339",
   "metadata": {},
   "outputs": [
    {
     "name": "stdout",
     "output_type": "stream",
     "text": [
      "john\n"
     ]
    }
   ],
   "source": [
    "'''Q.4 Assuming that we have some email addresses in the 'username@companyname.com'; format,\n",
    "please write program to print the user name of a given email address. Both user names and\n",
    "company names are composed of letters only.\n",
    "\n",
    "If the following email address is given as input to the program: john@google.com\n",
    "Then, the output of the program should be: john'''\n",
    "\n",
    "name = 'john@google.com'\n",
    "print(name.split('@')[0])"
   ]
  },
  {
   "cell_type": "code",
   "execution_count": 95,
   "id": "8bc87efe",
   "metadata": {},
   "outputs": [
    {
     "name": "stdout",
     "output_type": "stream",
     "text": [
      "25\n"
     ]
    }
   ],
   "source": [
    "'''Q.5 Define a class named Shape and its subclass Square. The Square class has an init function which takes a length \n",
    "as argument. Both classes have a area function which can print the area of the shape where area is 0 by default.'''\n",
    "\n",
    "class Shape(object):\n",
    "    def __init__(self):\n",
    "        pass\n",
    "    def area(self):\n",
    "        return 0\n",
    "\n",
    "class Square(Shape):\n",
    "    def __init__(self, l):\n",
    "        Shape.__init__(self)\n",
    "        self.length = l\n",
    "\n",
    "    def area(self):\n",
    "        return self.length*self.length\n",
    "\n",
    "aSquare = Square(5)\n",
    "print (aSquare.area())\n"
   ]
  }
 ],
 "metadata": {
  "kernelspec": {
   "display_name": "Python 3",
   "language": "python",
   "name": "python3"
  },
  "language_info": {
   "codemirror_mode": {
    "name": "ipython",
    "version": 3
   },
   "file_extension": ".py",
   "mimetype": "text/x-python",
   "name": "python",
   "nbconvert_exporter": "python",
   "pygments_lexer": "ipython3",
   "version": "3.8.8"
  }
 },
 "nbformat": 4,
 "nbformat_minor": 5
}
