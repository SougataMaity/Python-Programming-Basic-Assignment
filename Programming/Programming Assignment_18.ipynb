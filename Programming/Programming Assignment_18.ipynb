{
 "cells": [
  {
   "cell_type": "code",
   "execution_count": 1,
   "id": "0fde40b0",
   "metadata": {},
   "outputs": [
    {
     "name": "stdout",
     "output_type": "stream",
     "text": [
      "[1, 2, 'a', 'b'] ---> [1, 2]\n",
      "[1, 'a', 'b', 0, 15] ---> [1, 0, 15]\n",
      "[1, 2, 'aasf', 'l', '123', 123] ---> [1, 2, 123]\n"
     ]
    }
   ],
   "source": [
    "'''Q.1 Create a function that takes a list of non negative integers integers and strings and return a new \n",
    "list without the strings'''\n",
    "\n",
    "def filter_list(list1):\n",
    "    \n",
    "    list2 = []\n",
    "    for i in list1:\n",
    "        if type(i) == int:\n",
    "            list2.append(i)\n",
    "            \n",
    "    return f'{list1} ---> {list2}'\n",
    "\n",
    "print(filter_list([1,2,'a','b']))\n",
    "print(filter_list([1,'a','b',0,15]))\n",
    "print(filter_list([1,2,'aasf','l','123',123]))"
   ]
  },
  {
   "cell_type": "code",
   "execution_count": 3,
   "id": "d2cd8bf6",
   "metadata": {},
   "outputs": [
    {
     "name": "stdout",
     "output_type": "stream",
     "text": [
      "Hello World ---> DLROw OLLEh\n",
      "ReVeRsE ---> eSrEvEr\n",
      "Radar ---> RADAr\n"
     ]
    }
   ],
   "source": [
    "'''Q.2 The 'Reverser' takes a string as input and returns that string in reverse orse, with the oposite case'''\n",
    "def reverse(string):\n",
    "    \n",
    "    case = string.swapcase()\n",
    "    return f'{string} ---> {case[::-1]}'\n",
    "\n",
    "print(reverse('Hello World'))\n",
    "print(reverse('ReVeRsE'))\n",
    "print(reverse('Radar'))"
   ]
  },
  {
   "cell_type": "code",
   "execution_count": 5,
   "id": "d338e872",
   "metadata": {},
   "outputs": [
    {
     "name": "stdout",
     "output_type": "stream",
     "text": [
      "First ---> 1\n",
      "middle ---> [2, 3, 4]\n",
      "last ---> 5\n"
     ]
    }
   ],
   "source": [
    "'''Q.3 You can assign variables from list liske 1st element (first), 2nd to leat -1 elements (middle) and last element (last)'''\n",
    "def elements_first(list1):\n",
    "    return f'First ---> {list1[0]}'\n",
    "\n",
    "def elements_middle(list1):\n",
    "    return f'middle ---> {list1[1 : (len(list1) - 1)]}'\n",
    "\n",
    "def elements_last(list1):\n",
    "    return f'last ---> {list1[len(list1)-1]}'\n",
    "\n",
    "print(elements_first([1,2,3,4,5]))\n",
    "print(elements_middle([1,2,3,4,5]))\n",
    "print(elements_last([1,2,3,4,5]))"
   ]
  },
  {
   "cell_type": "code",
   "execution_count": 11,
   "id": "b0cf2253",
   "metadata": {},
   "outputs": [
    {
     "name": "stdout",
     "output_type": "stream",
     "text": [
      "Please enter a number : 5\n",
      "Factorial of 5 is 120\n"
     ]
    }
   ],
   "source": [
    "'''Q.4 Write the function that calculates the factorial of a number recursively'''\n",
    "def factorial(n):\n",
    "    \n",
    "    if n <= -1:\n",
    "        return 'Please Enter a number which greater than or equal to 0'\n",
    "    elif n == 0:\n",
    "        return 1\n",
    "    else:\n",
    "        return n*factorial(n-1)\n",
    "\n",
    "n = int(input('Please enter a number : '))\n",
    "print(f'Factorial of {n} is {factorial(n)}')"
   ]
  },
  {
   "cell_type": "code",
   "execution_count": 28,
   "id": "3085721b",
   "metadata": {},
   "outputs": [
    {
     "name": "stdout",
     "output_type": "stream",
     "text": [
      "move_to_end([1, 3, 2, 4, 4, 1], 1) ----> [3, 2, 4, 4, 1, 1]\n",
      "move_to_end([7, 8, 9, 1, 2, 3, 4], 9) ----> [7, 8, 1, 2, 3, 4, 9]\n",
      "move_to_end(['a', 'a', 'a', 'b'], a) ----> ['b', 'a', 'a', 'a']\n"
     ]
    }
   ],
   "source": [
    "'''Q.5 Write a function that moves all elements of one type to end of the list'''\n",
    "\n",
    "def move_to_end(list1, n):\n",
    "    \n",
    "    list2 = []\n",
    "    for i in list1:\n",
    "        if i != n:\n",
    "            list2.append(i)\n",
    "    else:\n",
    "        for i in list1:\n",
    "            if i == n:\n",
    "                list2.append(i)\n",
    "    return f'move_to_end({list1}, {n}) ----> {list2}'\n",
    "\n",
    "print(move_to_end([1,3,2,4,4,1],1))\n",
    "print(move_to_end([7,8,9,1,2,3,4],9))\n",
    "print(move_to_end(['a','a','a','b'],'a'))"
   ]
  }
 ],
 "metadata": {
  "kernelspec": {
   "display_name": "Python 3",
   "language": "python",
   "name": "python3"
  },
  "language_info": {
   "codemirror_mode": {
    "name": "ipython",
    "version": 3
   },
   "file_extension": ".py",
   "mimetype": "text/x-python",
   "name": "python",
   "nbconvert_exporter": "python",
   "pygments_lexer": "ipython3",
   "version": "3.8.8"
  }
 },
 "nbformat": 4,
 "nbformat_minor": 5
}
