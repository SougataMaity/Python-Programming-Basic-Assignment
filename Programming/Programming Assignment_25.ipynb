{
 "cells": [
  {
   "cell_type": "code",
   "execution_count": 2,
   "id": "ae0acd53",
   "metadata": {},
   "outputs": [
    {
     "name": "stdout",
     "output_type": "stream",
     "text": [
      "Number of equal value is : 0\n",
      "Number of equal value is : 3\n",
      "Number of equal value is : 2\n"
     ]
    }
   ],
   "source": [
    "'''Q.1 Create a function that takes three integer arguments (a,b,c) and returns the among of integers which are of equal value'''\n",
    "\n",
    "def equal_value(a,b,c):\n",
    "    '''returns the among of integers which are of equal value'''\n",
    "    \n",
    "    if a==b==c:\n",
    "        return 'Number of equal value is : 3'\n",
    "    \n",
    "    elif a==b or b==c or c==a:\n",
    "        return 'Number of equal value is : 2'\n",
    "    \n",
    "    else:\n",
    "        return 'Number of equal value is : 0'\n",
    "print(equal_value(2,5,8))\n",
    "print(equal_value(5,5,5))\n",
    "print(equal_value(4,4,7))\n"
   ]
  },
  {
   "cell_type": "code",
   "execution_count": 35,
   "id": "f25ea154",
   "metadata": {},
   "outputs": [
    {
     "name": "stdout",
     "output_type": "stream",
     "text": [
      "{'D': 1, 'B': 2, 'C': 3} ----> [('B', 2), ('C', 3), ('D', 1)]\n",
      "{'likes': 2, 'dislikes': 3, 'folllowers': 10} ----> [('dislikes', 3), ('folllowers', 10), ('likes', 2)]\n"
     ]
    }
   ],
   "source": [
    "'''Q.2 Write a function that covers a dictionary into a list of key-values tuple'''\n",
    "\n",
    "def dict_to_list(dictionary):\n",
    "    '''dictionary into a list of key-values tuple'''\n",
    "    \n",
    "    list1 = []\n",
    "    for i,j in dictionary.items():\n",
    "        list1.append((i,j))\n",
    "    return f'{dictionary} ----> {sorted(list1)}'\n",
    "\n",
    "print(dict_to_list({'D':1, 'B':2, 'C':3}))\n",
    "print(dict_to_list({\"likes\":2, \"dislikes\":3, \"folllowers\":10}))"
   ]
  },
  {
   "cell_type": "code",
   "execution_count": 4,
   "id": "df3e986f",
   "metadata": {},
   "outputs": [
    {
     "name": "stdout",
     "output_type": "stream",
     "text": [
      "{'p': 'P', 's': 'S'}\n",
      "{'a': 'A', 'b': 'B', 'c': 'C'}\n",
      "{'a': 'A', 'v': 'V', 'y': 'Y', 'z': 'Z'}\n"
     ]
    }
   ],
   "source": [
    "'''Q.3 Write a function that creates a dictionary with each (key, value) pair being the (lower case, upper case) \n",
    "versions of a letter respectively.'''\n",
    "\n",
    "def mapping(data):\n",
    "    '''creates a dictionary with each (key, value) pair being the (lower case, upper case)'''\n",
    "    \n",
    "    k = []\n",
    "    for i in data:\n",
    "        k.append(i)\n",
    "        k.append(i.upper())\n",
    "        \n",
    "    elements = {k[i]: k[i + 1] for i in range(0, len(k),2)}\n",
    "    return elements\n",
    "\n",
    "print(mapping(['p','s']))\n",
    "print(mapping(['a','b','c']))\n",
    "print(mapping(['a','v','y','z']))"
   ]
  },
  {
   "cell_type": "code",
   "execution_count": 36,
   "id": "5f4545f6",
   "metadata": {},
   "outputs": [
    {
     "name": "stdout",
     "output_type": "stream",
     "text": [
      "(upplus und bununus, u) --- > upplus und bununus\n",
      "(chooso cossorolo, o) --- > chooso cossorolo\n",
      "(steffed jelepene peppers, e) --- > steffed jelepene peppers\n"
     ]
    }
   ],
   "source": [
    "'''Q.4 Write a function, that replaces all vowels in a string with a specified vowel.'''\n",
    "\n",
    "def vow_replace(test_str, specified_vowel):\n",
    "    '''replaces all vowels in a string with a specified vowel'''\n",
    "    \n",
    "    vowels = 'AEIOUaeiou'\n",
    "    for i in vowels:\n",
    "        test_str = test_str.replace(i, specified_vowel)\n",
    "    return f'({test_str}, {specified_vowel}) --- > {test_str}'\n",
    " \n",
    "print(vow_replace('apples and bananas', 'u'))\n",
    "print(vow_replace('cheese casserole', 'o'))\n",
    "print(vow_replace('stuffed jalapeno poppers', 'e'))\n"
   ]
  },
  {
   "cell_type": "code",
   "execution_count": 14,
   "id": "b54c0d8e",
   "metadata": {},
   "outputs": [
    {
     "name": "stdout",
     "output_type": "stream",
     "text": [
      "to be or not to be! ---> To Be oR NoT To Be!\n",
      "THE LITTLE MERMALD ---> THE LITTLE MERMALD\n",
      "oh what a beautiful morning. ---> oH wHaT a BeauTiFuL moRNiNg.\n"
     ]
    }
   ],
   "source": [
    "'''Q.5 Creat a function that takes a stringas a input and capitalizes aletter if its ASCII code is even\n",
    "and returns its lower case version if its ASCII code is odd'''\n",
    "\n",
    "def ascii_capitalize(string):\n",
    "    '''capitalizes aletter if its ASCII code is even\n",
    "    and returns its lower case version if its ASCII code is odd'''\n",
    "    \n",
    "    result = ''\n",
    "    for i in string:\n",
    "        if ord(i)%2 == 0:\n",
    "            result = result + i.upper()\n",
    "        else:\n",
    "            result = result + i\n",
    "    return f'{string} ---> {result}'\n",
    "\n",
    "print(ascii_capitalize('to be or not to be!'))\n",
    "print(ascii_capitalize('THE LITTLE MERMALD'))\n",
    "print(ascii_capitalize('oh what a beautiful morning.'))"
   ]
  }
 ],
 "metadata": {
  "kernelspec": {
   "display_name": "Python 3",
   "language": "python",
   "name": "python3"
  },
  "language_info": {
   "codemirror_mode": {
    "name": "ipython",
    "version": 3
   },
   "file_extension": ".py",
   "mimetype": "text/x-python",
   "name": "python",
   "nbconvert_exporter": "python",
   "pygments_lexer": "ipython3",
   "version": "3.8.8"
  }
 },
 "nbformat": 4,
 "nbformat_minor": 5
}
