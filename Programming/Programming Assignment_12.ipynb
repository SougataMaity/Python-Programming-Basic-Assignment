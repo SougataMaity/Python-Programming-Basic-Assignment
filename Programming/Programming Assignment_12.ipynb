{
 "cells": [
  {
   "cell_type": "code",
   "execution_count": 3,
   "id": "10a9f229",
   "metadata": {},
   "outputs": [
    {
     "data": {
      "text/plain": [
       "[5, 7, 10, 14, 15, 20, 28, 30, 35, 40]"
      ]
     },
     "execution_count": 3,
     "metadata": {},
     "output_type": "execute_result"
    }
   ],
   "source": [
    "'''Q.1 Write a python program to Extract Unique values dictionary values '''\n",
    "data = {'item1' : [10,20,30,40], 'item2': [5,15,30,35], 'item3': [7,14,28,35]}\n",
    "\n",
    "dt = []\n",
    "for i in data.values():\n",
    "    for j in i:\n",
    "        if j not in dt:\n",
    "            dt.append(j)\n",
    "            \n",
    "sorted(dt)"
   ]
  },
  {
   "cell_type": "code",
   "execution_count": 12,
   "id": "1615fe20",
   "metadata": {},
   "outputs": [
    {
     "name": "stdout",
     "output_type": "stream",
     "text": [
      "269\n"
     ]
    }
   ],
   "source": [
    "'''Q.2 Write a python program to find the sum of all items in a dictnary '''\n",
    "data = {'item1' : [10,20,30,40], 'item2': [5,15,30,35], 'item3': [7,14,28,35]}\n",
    "\n",
    "dict_sum = 0\n",
    "for i in data.values():\n",
    "    for j in i:\n",
    "        dict_sum = dict_sum + j\n",
    "        \n",
    "print(dict_sum)"
   ]
  },
  {
   "cell_type": "code",
   "execution_count": 20,
   "id": "3939e9a6",
   "metadata": {},
   "outputs": [
    {
     "data": {
      "text/plain": [
       "{'product1': [100, 200],\n",
       " 'product2': [500, 600],\n",
       " 'item1': [10, 20],\n",
       " 'item2': [50, 60]}"
      ]
     },
     "execution_count": 20,
     "metadata": {},
     "output_type": "execute_result"
    }
   ],
   "source": [
    "'''Q.3 Write a python program to merging two dictionary '''\n",
    "dic1 = {'item1': [10,20], 'item2': [50,60]}\n",
    "dic2 = {'product1': [100,200], 'product2': [500, 600]}\n",
    "\n",
    "dic2.update(dic1)\n",
    "dic2"
   ]
  },
  {
   "cell_type": "code",
   "execution_count": 30,
   "id": "d213568b",
   "metadata": {},
   "outputs": [
    {
     "name": "stdout",
     "output_type": "stream",
     "text": [
      "The dictionary is :   {'month_code': [1, 2, 3, 4, 5, 6], 'name_of_month': ['Jan', 'Feb', 'March', 'Apr', 'May', 'June']}\n",
      "\n",
      "The flat dictionary is :   {1: 'Jan', 2: 'Feb', 3: 'March', 4: 'Apr', 5: 'May', 6: 'June'}\n"
     ]
    }
   ],
   "source": [
    "'''Q.4 Write a python program to convart key values list to flat dictnary '''\n",
    "\n",
    "dict1 = {'month_code' : [1, 2, 3, 4, 5, 6],\n",
    "         'name_of_month' : ['Jan', 'Feb', 'March', 'Apr', 'May', 'June']}\n",
    "\n",
    "res = dict(zip(dict1['month_code'], dict1['name_of_month']))\n",
    "\n",
    "print('The dictionary is :  ', dict1)\n",
    "print(\"\\nThe flat dictionary is :  \", res )"
   ]
  },
  {
   "cell_type": "code",
   "execution_count": 51,
   "id": "0c431b2d",
   "metadata": {},
   "outputs": [
    {
     "data": {
      "text/plain": [
       "{'d': 40, 'a': 10, 'b': 20, 'c': 30}"
      ]
     },
     "execution_count": 51,
     "metadata": {},
     "output_type": "execute_result"
    }
   ],
   "source": [
    "'''Q.5 Write a program to insertion at the beginnig in orderedDict '''\n",
    "\n",
    "dict1 = {'a': 10, 'b':20, 'c':30}\n",
    "dict2 = {'d':40}\n",
    "\n",
    "dict2.update(dict1)\n",
    "dict2"
   ]
  },
  {
   "cell_type": "code",
   "execution_count": 95,
   "id": "d569de15",
   "metadata": {},
   "outputs": [
    {
     "name": "stdout",
     "output_type": "stream",
     "text": [
      "The string is :  I am a interesting person with inovation idea\n",
      "The input pattern is : te\n",
      "The order of pattern is correct\n"
     ]
    }
   ],
   "source": [
    "'''Q.6 Write a python program to check order of character in string using orderDict()'''\n",
    "\n",
    "from collections import OrderedDict\n",
    "\n",
    "def check_order(my_input, my_pattern):\n",
    "    my_dict = OrderedDict.fromkeys(my_input)\n",
    "    pattern_length = 0\n",
    "    for key,value in my_dict.items():\n",
    "        if (key == my_pattern[pattern_length]):\n",
    "            pattern_length = pattern_length + 1\n",
    "\n",
    "        if (pattern_length == (len(my_pattern))):\n",
    "            return 'The order of pattern is correct'\n",
    "\n",
    "    return 'The order of pattern is incorrect'\n",
    "\n",
    "\n",
    "my_input = 'I am a interesting person with inovation idea'\n",
    "input_pattern = 'te'\n",
    "\n",
    "print(\"The string is : \", my_input)\n",
    "print(\"The input pattern is :\", input_pattern)\n",
    "print(check_order(my_input,input_pattern))"
   ]
  },
  {
   "cell_type": "code",
   "execution_count": 81,
   "id": "76e6e744",
   "metadata": {},
   "outputs": [
    {
     "name": "stdout",
     "output_type": "stream",
     "text": [
      "Dictionary Sorted by key :  {'a': 100, 'b': 50, 'c': 20, 'd': 10}\n",
      "\n",
      "Ascending order\n",
      "Dictionary Sorted by value :  {'d': 10, 'c': 20, 'b': 50, 'a': 100}\n",
      "\n",
      "Descending order\n",
      "Dictionary Sorted by value :  {'a': 100, 'b': 50, 'c': 20, 'd': 10}\n"
     ]
    }
   ],
   "source": [
    "'''Q.7 Write a python program to sort python dictionaries by key or values'''\n",
    "\n",
    "dict1 = {'d': 10, 'a':100, 'c':20, 'b':50}\n",
    "\n",
    "# key\n",
    "sorted_by_key = {k: v for k,v in sorted(dict1.items())}\n",
    "print('Dictionary Sorted by key : ', sorted_by_key)           \n",
    "\n",
    "# values (Ascending order)\n",
    "sorted_by_values_1 = {k: v for k,v in sorted(dict1.items(), key = lambda v: v[1])}\n",
    "print('\\nAscending order')\n",
    "print('Dictionary Sorted by value : ', sorted_by_values_1)\n",
    "\n",
    "# descending order\n",
    "sorted_by_values_2 = {k: v for k, v in sorted(dict1.items(), key = lambda v: v[1], reverse = True)}\n",
    "print('\\nDescending order')\n",
    "print('Dictionary Sorted by value : ', sorted_by_values_2)"
   ]
  },
  {
   "cell_type": "code",
   "execution_count": null,
   "id": "8ee1f2a5",
   "metadata": {},
   "outputs": [],
   "source": []
  }
 ],
 "metadata": {
  "kernelspec": {
   "display_name": "Python 3",
   "language": "python",
   "name": "python3"
  },
  "language_info": {
   "codemirror_mode": {
    "name": "ipython",
    "version": 3
   },
   "file_extension": ".py",
   "mimetype": "text/x-python",
   "name": "python",
   "nbconvert_exporter": "python",
   "pygments_lexer": "ipython3",
   "version": "3.8.8"
  }
 },
 "nbformat": 4,
 "nbformat_minor": 5
}
