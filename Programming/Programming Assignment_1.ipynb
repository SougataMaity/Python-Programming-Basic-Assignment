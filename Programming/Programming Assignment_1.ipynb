{
 "cells": [
  {
   "cell_type": "code",
   "execution_count": 1,
   "id": "bad31ee6",
   "metadata": {},
   "outputs": [
    {
     "name": "stdout",
     "output_type": "stream",
     "text": [
      "Hello Python\n"
     ]
    }
   ],
   "source": [
    "'''Q.1 Write a python program to print \"Hello Python\" '''\n",
    "print ('Hello Python')"
   ]
  },
  {
   "cell_type": "code",
   "execution_count": 3,
   "id": "d75bffd6",
   "metadata": {},
   "outputs": [
    {
     "name": "stdout",
     "output_type": "stream",
     "text": [
      "Addition between two number 12\n",
      "Divisioin between two number 5.0\n"
     ]
    }
   ],
   "source": [
    "'''Q.2 Write a program to do arithmetical operations addition and division'''\n",
    "\n",
    "num1 = 10\n",
    "num2 = 2\n",
    "\n",
    "print('Addition between two number :', num1 + num2)\n",
    "print('Divisioin between two number :', num1 / num2)"
   ]
  },
  {
   "cell_type": "code",
   "execution_count": 2,
   "id": "6cc5e737",
   "metadata": {},
   "outputs": [
    {
     "data": {
      "text/plain": [
       "'Area of base 10 and Height 5 Triangle : 25.0'"
      ]
     },
     "execution_count": 2,
     "metadata": {},
     "output_type": "execute_result"
    }
   ],
   "source": [
    "'''Q.3 Write a python program to find the area of a triangle'''\n",
    "\n",
    "def triangle_area(h,b):\n",
    "    '''\n",
    "    h : Height of a triangle\n",
    "    b : Base of a triangle\n",
    "    a : Area of a triangle\n",
    "    Method : a = 0.5 * b * h \n",
    "    '''\n",
    "    a = 0.5 * h * b\n",
    "    return f'Area of base {b} and Height {h} Triangle : {a}'\n",
    "\n",
    "triangle_area(5,10)"
   ]
  },
  {
   "cell_type": "code",
   "execution_count": 8,
   "id": "8f9321af",
   "metadata": {},
   "outputs": [
    {
     "name": "stdout",
     "output_type": "stream",
     "text": [
      "The value of x after swapping: 2\n",
      "The value of y after swapping: 5\n"
     ]
    }
   ],
   "source": [
    "'''Q.4 Write a python program to swap two variables '''\n",
    "\n",
    "x = 5\n",
    "y = 2\n",
    "\n",
    "store = x\n",
    "x = y\n",
    "y = store\n",
    "\n",
    "print('The value of x after swapping: {}'.format(x))\n",
    "print('The value of y after swapping: {}'.format(y))\n"
   ]
  },
  {
   "cell_type": "code",
   "execution_count": 34,
   "id": "9a6b6851",
   "metadata": {},
   "outputs": [
    {
     "name": "stdout",
     "output_type": "stream",
     "text": [
      "Random int : 8\n",
      "Random letter : n\n",
      "Random number between 0 to 1 : 0.48758428289163447\n"
     ]
    }
   ],
   "source": [
    "'''Q.5 Write a python program to generate a random number'''\n",
    "\n",
    "import random\n",
    "\n",
    "# to generate a random number between 0 and 9\n",
    "print(f'Random int : {random.randint(0,9)}')\n",
    "\n",
    "# to generate a random letter between 'ineuron'\n",
    "a = 'ineuron'\n",
    "print(f'Random letter : {random.choice(a)}')\n",
    "\n",
    "print('Random number between 0 to 1 :', random.random())"
   ]
  }
 ],
 "metadata": {
  "kernelspec": {
   "display_name": "Python 3",
   "language": "python",
   "name": "python3"
  },
  "language_info": {
   "codemirror_mode": {
    "name": "ipython",
    "version": 3
   },
   "file_extension": ".py",
   "mimetype": "text/x-python",
   "name": "python",
   "nbconvert_exporter": "python",
   "pygments_lexer": "ipython3",
   "version": "3.8.8"
  }
 },
 "nbformat": 4,
 "nbformat_minor": 5
}
