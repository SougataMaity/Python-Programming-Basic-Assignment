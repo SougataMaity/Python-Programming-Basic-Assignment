{
 "cells": [
  {
   "cell_type": "code",
   "execution_count": 6,
   "id": "6c5711a6",
   "metadata": {},
   "outputs": [
    {
     "data": {
      "text/plain": [
       "'Sum of this Array is 60'"
      ]
     },
     "execution_count": 6,
     "metadata": {},
     "output_type": "execute_result"
    }
   ],
   "source": [
    "'''Q.1 Write a Python Program to find sum of array '''\n",
    "\n",
    "import numpy as np\n",
    "\n",
    "def array_sum(array): \n",
    "    '''sum of array'''\n",
    "\n",
    "    array = np.array(array)\n",
    "    sum = 0\n",
    "    for i in array:\n",
    "        sum = sum + i\n",
    "        \n",
    "    return f'Sum of this {array} is {sum}'\n",
    "\n",
    "array_sum([10,20,30])"
   ]
  },
  {
   "cell_type": "code",
   "execution_count": 12,
   "id": "4152ae26",
   "metadata": {},
   "outputs": [
    {
     "data": {
      "text/plain": [
       "'Maximum element of this [10, 90, 50, 80] is 90'"
      ]
     },
     "execution_count": 12,
     "metadata": {},
     "output_type": "execute_result"
    }
   ],
   "source": [
    "'''Q.2 Write a Python Program to find largest element in an array'''\n",
    "\n",
    "def array_max(input_array):\n",
    "    '''Largest element in an array'''\n",
    "    \n",
    "    array = np.array(input_array)\n",
    "    for i in range(len(array)):\n",
    "        for j in range(i+1, len(array)):\n",
    "            if array[i] < array[j]:\n",
    "                array[i], array[j] = array[j], array[i]\n",
    "    \n",
    "    return f'Maximum element of this {input_array} is {array[0]}'         \n",
    "\n",
    "array_max([10,90,50,80])"
   ]
  },
  {
   "cell_type": "code",
   "execution_count": 43,
   "id": "5f0e27cb",
   "metadata": {},
   "outputs": [
    {
     "data": {
      "text/plain": [
       "('2 rotation array is', array([ 60,  80,  70, 100,  20,  30]))"
      ]
     },
     "execution_count": 43,
     "metadata": {},
     "output_type": "execute_result"
    }
   ],
   "source": [
    "'''Q.3 Write a Python Program for array rotation '''\n",
    "\n",
    "def array_rotation(input_array, shift_element):\n",
    "    '''array rotation'''\n",
    "    \n",
    "    array = np.array(input_array)\n",
    "    shift = shift_element\n",
    "    for i in range(0, shift):\n",
    "        temp = array[0]\n",
    "        \n",
    "        for j in range(0, len(array)-1):\n",
    "            array[j] = array[j+1]\n",
    "            \n",
    "        array[len(array) -1] = temp\n",
    "        \n",
    "    return f'{shift} rotation array is', array\n",
    "\n",
    "array_rotation([20,30,60, 80, 70, 100], 2)\n",
    "    "
   ]
  },
  {
   "cell_type": "code",
   "execution_count": 48,
   "id": "3df7081f",
   "metadata": {},
   "outputs": [
    {
     "name": "stdout",
     "output_type": "stream",
     "text": [
      "split in 4 position first 4 value join in end\n"
     ]
    },
    {
     "data": {
      "text/plain": [
       "[50, 60, 70, 80, 10, 20, 30, 40]"
      ]
     },
     "execution_count": 48,
     "metadata": {},
     "output_type": "execute_result"
    }
   ],
   "source": [
    "'''Q.4 Write a Python Program to Split the array and add the first part to the end '''\n",
    "\n",
    "def split_1st_end(input_array):\n",
    "    '''Split the array and add the first part to the end'''\n",
    "    array = input_array\n",
    "    split = int(len(array)/2)\n",
    "    \n",
    "    for i in range(0, split):\n",
    "        first = array[0]\n",
    "        for j in range(0, len(array) - 1):\n",
    "            array[j] = array[j+1]\n",
    "        array[len(array) - 1] = first\n",
    "    print(f'split in {split} position so first {split} value join in end')\n",
    "        \n",
    "    return array\n",
    "\n",
    "split_1st_end([10,20,30,40,50,60,70,80])"
   ]
  },
  {
   "cell_type": "code",
   "execution_count": 51,
   "id": "9460c2cd",
   "metadata": {},
   "outputs": [
    {
     "data": {
      "text/plain": [
       "\"[1, 2, 3, 4, 5] Yes it's monotonic array\""
      ]
     },
     "execution_count": 51,
     "metadata": {},
     "output_type": "execute_result"
    }
   ],
   "source": [
    "'''Q.5. Write a Python Program to check if given array is Monotonic'''\n",
    "\n",
    "def monotonic(array):\n",
    "    '''Array is Monotonic'''\n",
    "    for i in range(len(array)-1):\n",
    "        if array[i] < array[i+1]:\n",
    "            return f\"{array} Yes it's monotonic array\"\n",
    "        else:\n",
    "            return f\"{array} no it's not a monotonic array\"\n",
    "\n",
    "monotonic([1,2,3,4,5])"
   ]
  }
 ],
 "metadata": {
  "kernelspec": {
   "display_name": "Python 3",
   "language": "python",
   "name": "python3"
  },
  "language_info": {
   "codemirror_mode": {
    "name": "ipython",
    "version": 3
   },
   "file_extension": ".py",
   "mimetype": "text/x-python",
   "name": "python",
   "nbconvert_exporter": "python",
   "pygments_lexer": "ipython3",
   "version": "3.8.8"
  }
 },
 "nbformat": 4,
 "nbformat_minor": 5
}
