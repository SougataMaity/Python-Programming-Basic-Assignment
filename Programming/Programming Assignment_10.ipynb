{
 "cells": [
  {
   "cell_type": "code",
   "execution_count": 2,
   "id": "df9c475b",
   "metadata": {},
   "outputs": [
    {
     "data": {
      "text/plain": [
       "'Sum of this [10, 50, 30, 20, 40] is 150'"
      ]
     },
     "execution_count": 2,
     "metadata": {},
     "output_type": "execute_result"
    }
   ],
   "source": [
    "'''Q.1 Write a Python program to find sum of elements in list'''\n",
    "\n",
    "def list_sum (list):\n",
    "    '''Sum of elements in list'''\n",
    "    sum = 0\n",
    "    for i in list:\n",
    "        sum = sum + i\n",
    "    return f'Sum of this {list} is {sum}'\n",
    "\n",
    "list = [10,50,30,20,40]\n",
    "list_sum(list)"
   ]
  },
  {
   "cell_type": "code",
   "execution_count": 3,
   "id": "db9d3afc",
   "metadata": {},
   "outputs": [
    {
     "data": {
      "text/plain": [
       "'Multiply of this [1, 2, 3, 4] elemnts is 24'"
      ]
     },
     "execution_count": 3,
     "metadata": {},
     "output_type": "execute_result"
    }
   ],
   "source": [
    "'''Q.2 Write a Python program to Multiply all numbers in the list'''\n",
    "\n",
    "def list_multiplication(list):\n",
    "    '''Multiply all number in the list'''\n",
    "    mul = 1\n",
    "    for i in list:\n",
    "        mul = mul*i\n",
    "        \n",
    "    return f'Multiplication of this {list} elemnts is {mul}'\n",
    "\n",
    "list = [1,2,3,4]\n",
    "list_multiplication(list)"
   ]
  },
  {
   "cell_type": "code",
   "execution_count": 6,
   "id": "08dd4e7a",
   "metadata": {},
   "outputs": [
    {
     "data": {
      "text/plain": [
       "'Minimum number of this [1, 4, 6, 8, 8, 10] is 1'"
      ]
     },
     "execution_count": 6,
     "metadata": {},
     "output_type": "execute_result"
    }
   ],
   "source": [
    "'''Q.3 Write a Python program to find smallest number in a list'''\n",
    "\n",
    "def list_minimum(list):\n",
    "    '''Smallest number in a list'''\n",
    "    for i in range(len(list)):\n",
    "        for j in range(i+1, len(list)):\n",
    "            if list[i] > list[j]:\n",
    "                list[i],list[j] = list[j], list[i]\n",
    "                \n",
    "    return f'Minimum number of this {list} is {list[0]}'\n",
    "\n",
    "list = [4,8,6,1,8,10]\n",
    "list_minimum(list)"
   ]
  },
  {
   "cell_type": "code",
   "execution_count": 5,
   "id": "0caf3f90",
   "metadata": {},
   "outputs": [
    {
     "data": {
      "text/plain": [
       "'Maximum number of this [10, 8, 8, 6, 4, 1] is 10'"
      ]
     },
     "execution_count": 5,
     "metadata": {},
     "output_type": "execute_result"
    }
   ],
   "source": [
    "'''Q.4 Write a Python program to find largest number in a list'''\n",
    "\n",
    "def list_maximum(list):\n",
    "    'Largest number in a list'''\n",
    "    for i in range(len(list)):\n",
    "        for j in range(i+1, len(list)):\n",
    "            if list[i] < list[j]:\n",
    "                list[i],list[j] = list[j], list[i]\n",
    "                \n",
    "    return f'Maximum number of this {list} is {list[0]}'\n",
    "\n",
    "list = [4,8,6,1,8,10]\n",
    "list_maximum(list)"
   ]
  },
  {
   "cell_type": "code",
   "execution_count": 6,
   "id": "1e41c51f",
   "metadata": {},
   "outputs": [
    {
     "data": {
      "text/plain": [
       "'Second largest number of this [10, 8, 8, 6, 4, 1] is 8'"
      ]
     },
     "execution_count": 6,
     "metadata": {},
     "output_type": "execute_result"
    }
   ],
   "source": [
    "'''Q.5 Write a Python program to find second largest number in a list'''\n",
    "\n",
    "def list_2nd_largest(list):\n",
    "    '''Second largest number in a list'''\n",
    "    for i in range(len(list)):\n",
    "        for j in range(i+1, len(list)):\n",
    "            if list[i] < list[j]:\n",
    "                list[i],list[j] = list[j], list[i]\n",
    "                \n",
    "    return f'Second largest number of this {list} is {list[1]}'\n",
    "\n",
    "list = [4,8,6,1,8,10]\n",
    "list_2nd_largest(list)"
   ]
  },
  {
   "cell_type": "code",
   "execution_count": 8,
   "id": "108d6764",
   "metadata": {},
   "outputs": [
    {
     "data": {
      "text/plain": [
       "'2 Maximum number of this [1, 8, 6, 4, 8, 10] is 8'"
      ]
     },
     "execution_count": 8,
     "metadata": {},
     "output_type": "execute_result"
    }
   ],
   "source": [
    "'''Q.6 Write a Python program to find N largest elements from a list'''\n",
    "\n",
    "def list_nth_largest(list, n):\n",
    "    '''Second largest number in a list'''\n",
    "    if n <= len(list):\n",
    "        for i in range(len(list)):\n",
    "            for j in range(i+1, len(list)):\n",
    "                if list[i] > list[j]:\n",
    "                    list[i],list[j] = list[j], list[i]\n",
    "                    return f'{n} largest number of this {list} is {list[n-1]}'\n",
    "    else:\n",
    "        print(f'Sorry total number of elements {len(list)} you enter {n}')\n",
    "                \n",
    "    return \n",
    "\n",
    "list = [4,8,6,1,8,10]\n",
    "list_nth_largest(list,2)"
   ]
  },
  {
   "cell_type": "code",
   "execution_count": 24,
   "id": "49e68393",
   "metadata": {},
   "outputs": [
    {
     "data": {
      "text/plain": [
       "'[2, 5, 7, 10, 6] even number [2, 10, 6]'"
      ]
     },
     "execution_count": 24,
     "metadata": {},
     "output_type": "execute_result"
    }
   ],
   "source": [
    "'''Q.7 Write a Python program to print even numbers in a list'''\n",
    "\n",
    "def list_even(list):\n",
    "    '''Print even number'''\n",
    "    list1 = []\n",
    "    for i in list:\n",
    "        if i%2 == 0:\n",
    "            list1.append(i)\n",
    "            \n",
    "    return f'{list} even number {list1}'\n",
    "\n",
    "list = [2,5,7,10,6]\n",
    "list_even(list)"
   ]
  },
  {
   "cell_type": "code",
   "execution_count": 25,
   "id": "86aad7e4",
   "metadata": {},
   "outputs": [
    {
     "data": {
      "text/plain": [
       "'[2, 5, 7, 10, 6] even number [5, 7]'"
      ]
     },
     "execution_count": 25,
     "metadata": {},
     "output_type": "execute_result"
    }
   ],
   "source": [
    "'''Q.8 Write a Python program to print odd numbers in a List'''\n",
    "\n",
    "def list_odd(list):\n",
    "    '''Print odd number'''\n",
    "    list1 = []\n",
    "    for i in list:\n",
    "        if i%2 != 0:\n",
    "            list1.append(i)\n",
    "            \n",
    "    return f'{list} even number {list1}'\n",
    "\n",
    "list = [2,5,7,10,6]\n",
    "list_odd(list)"
   ]
  },
  {
   "cell_type": "code",
   "execution_count": 38,
   "id": "b57d31ae",
   "metadata": {},
   "outputs": [
    {
     "data": {
      "text/plain": [
       "[1, 2, [1, 2, 3]]"
      ]
     },
     "execution_count": 38,
     "metadata": {},
     "output_type": "execute_result"
    }
   ],
   "source": [
    "'''Q.9 Write a Python program to Remove empty List from List'''\n",
    "\n",
    "def remove_empty_list(list):\n",
    "    '''Remove empty list'''\n",
    "    list1 = []\n",
    "    for i in list:\n",
    "        if i != []:\n",
    "            list1.append(i)\n",
    "                \n",
    "    return list1\n",
    "\n",
    "l = [1,2, [], [], [1,2,3]]\n",
    "\n",
    "remove_empty_list(l)"
   ]
  },
  {
   "cell_type": "code",
   "execution_count": 40,
   "id": "301f6d31",
   "metadata": {},
   "outputs": [
    {
     "data": {
      "text/plain": [
       "'[2, 4, 5] and copy it [2, 4, 5]'"
      ]
     },
     "execution_count": 40,
     "metadata": {},
     "output_type": "execute_result"
    }
   ],
   "source": [
    "'''Q.10 Write a Python program to Cloning or Copying a list'''\n",
    "\n",
    "def copy(list):\n",
    "    '''Copy a list'''\n",
    "    copy = list[:]\n",
    "    return f'{list} and copy it {copy}'\n",
    "\n",
    "list = [2,4,5]\n",
    "copy(list)"
   ]
  },
  {
   "cell_type": "code",
   "execution_count": 55,
   "id": "5ab5c8bb",
   "metadata": {},
   "outputs": [
    {
     "data": {
      "text/plain": [
       "'From this [1, 1, 2, 3, 3, 4, 4, 4] list 2 occurances 1 times'"
      ]
     },
     "execution_count": 55,
     "metadata": {},
     "output_type": "execute_result"
    }
   ],
   "source": [
    "'''Q.11 Write a Python program to Count occurrences of an element in a list'''\n",
    "\n",
    "def count(list, element):\n",
    "    ''' Count Occurances of an element in a list'''\n",
    "\n",
    "    for i in list:\n",
    "        count = list.count(element)\n",
    "    \n",
    "    return f'From this {list} list {element} occurances {count} times'\n",
    "\n",
    "list = [1,1,2,3,3,4,4,4]\n",
    "count(list,2)"
   ]
  }
 ],
 "metadata": {
  "kernelspec": {
   "display_name": "Python 3",
   "language": "python",
   "name": "python3"
  },
  "language_info": {
   "codemirror_mode": {
    "name": "ipython",
    "version": 3
   },
   "file_extension": ".py",
   "mimetype": "text/x-python",
   "name": "python",
   "nbconvert_exporter": "python",
   "pygments_lexer": "ipython3",
   "version": "3.8.8"
  }
 },
 "nbformat": 4,
 "nbformat_minor": 5
}
