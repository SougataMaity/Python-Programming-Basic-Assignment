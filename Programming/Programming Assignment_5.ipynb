{
 "cells": [
  {
   "cell_type": "code",
   "execution_count": 77,
   "id": "8ff5b99b",
   "metadata": {},
   "outputs": [
    {
     "name": "stdout",
     "output_type": "stream",
     "text": [
      "Please enter 1st value :12\n",
      "Please enter 2nd value :24\n"
     ]
    },
    {
     "data": {
      "text/plain": [
       "'L.C.M of 12 and 24 is 24'"
      ]
     },
     "execution_count": 77,
     "metadata": {},
     "output_type": "execute_result"
    }
   ],
   "source": [
    "'''Q.1 Write a python program to find LCM '''\n",
    "\n",
    "def lcm(n1,n2):\n",
    "    ''' \n",
    "    L.C.M : Least Common multiple\n",
    "    n1 : First value of this L.C.M\n",
    "    n2 : Secend value of this L.C.M\n",
    "    method : Finding n1 all multiples and n2 all multiples\n",
    "             Taken only least common multiple    \n",
    "    '''\n",
    "    if n1>n2: higher = n1\n",
    "    else: higher = n2\n",
    "    iteration = higher\n",
    "    \n",
    "    while(True):\n",
    "        if (higher%n1 == 0) and (higher%n2 == 0):\n",
    "            lcm = higher\n",
    "            break\n",
    "        else:\n",
    "            higher = higher + iteration\n",
    "    \n",
    "    return f'L.C.M of {n1} and {n2} is {lcm}'\n",
    "\n",
    "n1 = int(input('Please enter 1st value :'))\n",
    "n2 = int(input('Please enter 2nd value :'))\n",
    "lcm(n1,n2)"
   ]
  },
  {
   "cell_type": "code",
   "execution_count": 82,
   "id": "d99bedc5",
   "metadata": {},
   "outputs": [
    {
     "name": "stdout",
     "output_type": "stream",
     "text": [
      "Please enter 1st value :18\n",
      "Please enter 2nd value :27\n"
     ]
    },
    {
     "data": {
      "text/plain": [
       "'H.C.F of 18 and 27 is 9'"
      ]
     },
     "execution_count": 82,
     "metadata": {},
     "output_type": "execute_result"
    }
   ],
   "source": [
    "'''Q.2 Write a python program to find HCF '''\n",
    "\n",
    "def hcf(n1,n2):\n",
    "    \n",
    "    '''\n",
    "    H.C.F : highest Common Factor\n",
    "    n1 : First value of this H.C.F\n",
    "    n2 : Secend value of this H.C.F\n",
    "    method : Largest possible number to divided both n1 and n2        \n",
    "    '''\n",
    "    \n",
    "    if n1<n2 : lower = n1\n",
    "    else : lower = n2\n",
    "    \n",
    "    for i in range(1, lower + 1):\n",
    "        if (n1%i == 0) and (n2%i == 0):\n",
    "            hcf = i\n",
    "    return f'H.C.F of {n1} and {n2} is {hcf}'\n",
    "\n",
    "n1 = int(input('Please enter 1st value :'))\n",
    "n2 = int(input('Please enter 2nd value :'))\n",
    "hcf(n1,n2)"
   ]
  },
  {
   "cell_type": "code",
   "execution_count": 86,
   "id": "ec078a94",
   "metadata": {},
   "outputs": [
    {
     "name": "stdout",
     "output_type": "stream",
     "text": [
      "Please Enter a decimal number : 344\n",
      "0b101011000 in binary\n",
      "0o530 in octal\n",
      "0x158 in hexadecimale\n"
     ]
    }
   ],
   "source": [
    "'''Q.3 Write a python program to convart Decimal to Binary, octal, hexadecimal'''\n",
    "\n",
    "num = int(input('Please Enter a decimal number : '))\n",
    "\n",
    "print(bin(num), 'in binary')\n",
    "print(oct(num), 'in octal')\n",
    "print(hex(num), 'in hexadecimale')"
   ]
  },
  {
   "cell_type": "code",
   "execution_count": 96,
   "id": "18e853c7",
   "metadata": {},
   "outputs": [
    {
     "name": "stdout",
     "output_type": "stream",
     "text": [
      "Please enter a letter : a\n",
      "The ASCII value of this 'a' is 97\n"
     ]
    }
   ],
   "source": [
    "'''Q.4 Writing a python program to find ASCII value of a character'''\n",
    "\n",
    "letter = input('Please enter a letter : ')\n",
    "\n",
    "print(f\"The ASCII value of this '{letter}' is {ord(letter)}\")"
   ]
  },
  {
   "cell_type": "code",
   "execution_count": 102,
   "id": "1972e351",
   "metadata": {},
   "outputs": [
    {
     "name": "stdout",
     "output_type": "stream",
     "text": [
      "Please enter first value : 10\n",
      "Please enter secend value : 20\n",
      "\n",
      "addition, multiplication, division, Subtraction\n",
      "Please choose one : addition\n",
      "Addition between 10 and 20 is 30\n"
     ]
    }
   ],
   "source": [
    "'''Q.5 Write a python program to make a simple calculator with 4 basic mathematical operations'''\n",
    "\n",
    "def operation(num1, num2):\n",
    "    user = input('\\naddition, multiplication, division, Subtraction\\nPlease choose one : ')\n",
    "    \n",
    "    if user == 'addition':\n",
    "        add = num1 + num2\n",
    "        print(f'Addition between {num1} and {num2} is {add}')\n",
    "    \n",
    "    elif user == 'multiplication':\n",
    "        mul = num1 * num2\n",
    "        print(f'Multiplication between {num1} and {num2} is {mul}')\n",
    "        \n",
    "    elif user == 'division':\n",
    "        div = num1/num2\n",
    "        print(f'Division between {num1} and {num2} is {div}')\n",
    "    \n",
    "    elif user == 'subtraction':\n",
    "        sub = num1 - num2\n",
    "        print(f'Subtraction between {num1} and {num2} is {sub}')\n",
    "    \n",
    "    return\n",
    "\n",
    "num1 = int(input('Please enter first value : '))\n",
    "num2 = int(input('Please enter secend value : '))\n",
    "\n",
    "operation(num1, num2)"
   ]
  }
 ],
 "metadata": {
  "kernelspec": {
   "display_name": "Python 3",
   "language": "python",
   "name": "python3"
  },
  "language_info": {
   "codemirror_mode": {
    "name": "ipython",
    "version": 3
   },
   "file_extension": ".py",
   "mimetype": "text/x-python",
   "name": "python",
   "nbconvert_exporter": "python",
   "pygments_lexer": "ipython3",
   "version": "3.8.8"
  }
 },
 "nbformat": 4,
 "nbformat_minor": 5
}
