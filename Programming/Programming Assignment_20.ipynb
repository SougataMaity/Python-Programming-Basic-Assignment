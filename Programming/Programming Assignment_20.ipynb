{
 "cells": [
  {
   "cell_type": "code",
   "execution_count": 1,
   "id": "1c087538",
   "metadata": {},
   "outputs": [
    {
     "name": "stdout",
     "output_type": "stream",
     "text": [
      "[1, 2, 3, 'a', 'b', 4] ----> [1, 2, 3, 4]\n",
      "['A', 0, 'Edabit', 1729, 'python', '1729'] ----> [0, 1729]\n",
      "['nothing', 'here'] ----> []\n"
     ]
    }
   ],
   "source": [
    "'''Q.1 Create a function that takes a list of string and integers, and filter out the list so that if returns a list\n",
    "of integer only'''\n",
    "\n",
    "def filter_list(list1):\n",
    "    '''List of string and integers return only list of integer'''\n",
    "    \n",
    "    list2 = []\n",
    "    for i in list1:\n",
    "        if type(i) == int:\n",
    "            list2.append(i)\n",
    "            \n",
    "    return f'{list1} ----> {list2}'\n",
    "\n",
    "print(filter_list([1,2,3,\"a\",\"b\",4]))\n",
    "print(filter_list(['A',0,'Edabit',1729, 'python','1729']))\n",
    "print(filter_list([\"nothing\", \"here\"]))"
   ]
  },
  {
   "cell_type": "code",
   "execution_count": 2,
   "id": "cc779ba4",
   "metadata": {},
   "outputs": [
    {
     "name": "stdout",
     "output_type": "stream",
     "text": [
      "[0, 0, 0, 0, 0] ----> [0, 1, 2, 3, 4]\n",
      "[1, 2, 3, 4, 5] ----> [1, 3, 5, 7, 9]\n",
      "[5, 4, 3, 2, 1] ----> [5, 5, 5, 5, 5]\n"
     ]
    }
   ],
   "source": [
    "'''Q.2 Given a list of numners, create a function which returns the list but with each element's index is the list added itself'''\n",
    "\n",
    "def add_indexes(list1):\n",
    "    '''list with each element's index is the list added itself'''\n",
    "    list2 = []\n",
    "    res = 0\n",
    "    for i in range(len(list1)):\n",
    "        res = i + list1[i]\n",
    "        list2.append(res)\n",
    "        \n",
    "    return f'{list1} ----> {list2}'\n",
    "\n",
    "print(add_indexes([0,0,0,0,0]))\n",
    "print(add_indexes([1,2,3,4,5]))\n",
    "print(add_indexes([5,4,3,2,1]))\n"
   ]
  },
  {
   "cell_type": "code",
   "execution_count": 49,
   "id": "852f8209",
   "metadata": {},
   "outputs": [
    {
     "name": "stdout",
     "output_type": "stream",
     "text": [
      "Please enter height of this cone : 15\n",
      "Please enter radius of this cone : 6\n",
      "\n",
      "Cone volumn is :  565.49\n"
     ]
    }
   ],
   "source": [
    "'''Q.3 Create a function that takes the height and radius of a cone as arguments and returns the volumn of the cone round\n",
    "to the nearest hundredth, see the resources tab for the formula.'''\n",
    "\n",
    "def cone_volumn(h,r):\n",
    "    '''\n",
    "    h  : Height of a cone\n",
    "    r  : Radius of this cone\n",
    "    v  : Volumn of this cone\n",
    "    pi : 3.14159\n",
    "    \n",
    "    formula : v = 1/3*(pi*r*r*h)\n",
    "    '''\n",
    "    v = 0\n",
    "    pi = 3.14159\n",
    "    v = 1/3*(pi*r*r*h)\n",
    "    \n",
    "    return round(v,2)\n",
    "\n",
    "h = int(input('Please enter height of this cone : '))\n",
    "r = int(input('Please enter radius of this cone : '))\n",
    "\n",
    "print('\\nCone volumn is : ', cone_volumn(h,r))\n",
    "    "
   ]
  },
  {
   "cell_type": "code",
   "execution_count": 4,
   "id": "414ffae6",
   "metadata": {},
   "outputs": [
    {
     "name": "stdout",
     "output_type": "stream",
     "text": [
      "triangle(1) ----> 1\n",
      "triangle(6) ----> 21\n",
      "triangle(215) ----> 23220\n"
     ]
    }
   ],
   "source": [
    "'''Q.4 This Triangular number sequence is generated from a pattern of dots that from a triangle. \n",
    "This first 5 numbers of the sequence, or dots are: 1,3,6,10,15\n",
    "This means that the first triangle has just one dot, the secend one has three dots,the third one has 6 dots and so on'''\n",
    "\n",
    "def triangle(n):\n",
    "    '''Triangular number sequence is generated from a pattern of dots that from a triangle'''\n",
    "    sum = 0\n",
    "    for i in range(0,n+1):\n",
    "        sum = sum + i\n",
    "    \n",
    "    return f'triangle({n}) ----> {sum}'\n",
    "\n",
    "print(triangle(1))\n",
    "print(triangle(6))\n",
    "print(triangle(215))"
   ]
  },
  {
   "cell_type": "code",
   "execution_count": 15,
   "id": "502bd308",
   "metadata": {},
   "outputs": [
    {
     "name": "stdout",
     "output_type": "stream",
     "text": [
      "[1, 2, 3, 4, 6, 7, 8, 9, 10] Missing number is 5\n",
      "[1, 2, 3, 4, 5, 6, 7, 9, 10] Missing number is 8\n"
     ]
    }
   ],
   "source": [
    "'''Q.5 Create a function that takes list of number between 1 and 10 (excluding one number) and return the misssing number '''\n",
    "\n",
    "def missing_num(list1):\n",
    "    '''list of number between 1 and 10 (excluding one number) and return the misssing number'''\n",
    "    \n",
    "    list2 = [1,2,3,4,5,6,7,8,9,10]\n",
    "    for i in range(len(list2)):\n",
    "        if list2[i] not in list1:\n",
    "            return f'{list1} Missing number is {list2[i]}'\n",
    "\n",
    "list1 = [1,2,3,4,6,7,8,9,10]\n",
    "print(missing_num(list1))\n",
    "\n",
    "list1 = [1,2,3,4,5,6,7,9,10]\n",
    "print(missing_num(list1))"
   ]
  }
 ],
 "metadata": {
  "kernelspec": {
   "display_name": "Python 3",
   "language": "python",
   "name": "python3"
  },
  "language_info": {
   "codemirror_mode": {
    "name": "ipython",
    "version": 3
   },
   "file_extension": ".py",
   "mimetype": "text/x-python",
   "name": "python",
   "nbconvert_exporter": "python",
   "pygments_lexer": "ipython3",
   "version": "3.8.8"
  }
 },
 "nbformat": 4,
 "nbformat_minor": 5
}
