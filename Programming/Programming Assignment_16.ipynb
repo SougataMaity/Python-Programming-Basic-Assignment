{
 "cells": [
  {
   "cell_type": "code",
   "execution_count": 2,
   "id": "0541079f",
   "metadata": {},
   "outputs": [
    {
     "name": "stdout",
     "output_type": "stream",
     "text": [
      "incredible --- > in... in... incredible?\n",
      "enthusiastic --- > en... en... enthusiastic?\n",
      "outstanding --- > ou... ou... outstanding?\n"
     ]
    }
   ],
   "source": [
    "'''Q.1\n",
    "Write a function that stutters a word as if someone is struggling to read it.The forst two letters are repeted twice \n",
    "with an elipsis ... and space after each, and then the word is pronounced with a question mark ?\n",
    "'''\n",
    "def stutter(string1):\n",
    "    rep = string1[0:2] + '... ' + string1[0:2] + '... ' + string1 + '?'\n",
    "    return f'{string1} --- > {rep}'\n",
    "    \n",
    "print(stutter(\"incredible\"))\n",
    "print(stutter(\"enthusiastic\"))\n",
    "print(stutter(\"outstanding\"))"
   ]
  },
  {
   "cell_type": "code",
   "execution_count": 3,
   "id": "000182a4",
   "metadata": {},
   "outputs": [
    {
     "name": "stdout",
     "output_type": "stream",
     "text": [
      "1 radians is 57.3 degrees\n",
      "20 radians is 1145.9 degrees\n",
      "50 radians is 2864.8 degrees\n"
     ]
    }
   ],
   "source": [
    "'''Q.2\n",
    "Create a function than takes an angel in redians and returns the corresponding angel degrees rounded to one decimal place\n",
    "'''\n",
    "def radians_to_degrees(n):\n",
    "    # 1 radians = 57.2958 degree\n",
    "    x = 57.2958\n",
    "    return f'{n} radians is {round(n*x, 1)} degrees'\n",
    "\n",
    "print(radians_to_degrees(1))\n",
    "print(radians_to_degrees(20))\n",
    "print(radians_to_degrees(50))"
   ]
  },
  {
   "cell_type": "code",
   "execution_count": 8,
   "id": "299124fa",
   "metadata": {},
   "outputs": [
    {
     "name": "stdout",
     "output_type": "stream",
     "text": [
      "True  33 is a multiple of 11\n",
      "False  1025 is not a multiple of 21\n",
      "True  16385 is a multiple of 29\n"
     ]
    }
   ],
   "source": [
    "'''Q.3\n",
    "In this challenge, estabilsh if a given integer num is a cuzon number. If 1 plus 2 elevated to num is exactly divisible \n",
    "by 1 plus 2 multiplied by num, then num is a curzon number.\n",
    "'''\n",
    "def is_curzon(n):\n",
    "    a = 2**n + 1\n",
    "    b = 2*n + 1\n",
    "    if a%b == 0:\n",
    "        return f'True  {a} is a multiple of {b}'\n",
    "    else:\n",
    "        return f'False  {a} is not a multiple of {b}'\n",
    "    \n",
    "    return \n",
    "\n",
    "print(is_curzon(5))\n",
    "print(is_curzon(10))\n",
    "print(is_curzon(14))"
   ]
  },
  {
   "cell_type": "code",
   "execution_count": 9,
   "id": "2cb10236",
   "metadata": {},
   "outputs": [
    {
     "name": "stdout",
     "output_type": "stream",
     "text": [
      "Hexagon side length 1 then area is 2.6\n",
      "Hexagon side length 2 then area is 10.4\n",
      "Hexagon side length 3 then area is 23.4\n"
     ]
    }
   ],
   "source": [
    "'''Q.4\n",
    "Given the side length x find the area of hexagon\n",
    "'''\n",
    "import math\n",
    "def area_of_hexagon(s):\n",
    "    A = (3 * math.sqrt(3)) * s**2\n",
    "    return f'Hexagon side length {s} then area is {round(A/2, 1)}'\n",
    "\n",
    "print(area_of_hexagon(1))\n",
    "print(area_of_hexagon(2))\n",
    "print(area_of_hexagon(3))"
   ]
  },
  {
   "cell_type": "code",
   "execution_count": 18,
   "id": "023646be",
   "metadata": {},
   "outputs": [
    {
     "name": "stdout",
     "output_type": "stream",
     "text": [
      "binary(1) --- 1\n",
      "binary(5) --- 101\n",
      "binary(10) --- 1010\n"
     ]
    }
   ],
   "source": [
    "'''Q.5 Create a function that returns a base-2 (binary) representation of a base-10 (decimal) string number. \n",
    "To convert is simple: ((2) means base-2 and (10) means base-10) 010101001(2) = 1 + 8 + 32 + 128.\n",
    "\n",
    "Going from right to left, the value of the most right bit is 1, now from that every bit to the left\n",
    "will be x2 the value, value of an 8 bit binary numbers are (256, 128, 64, 32, 16, 8, 4, 2, 1) '''\n",
    "def binary(n):\n",
    "    \n",
    "    bin_value = bin(n)[2::]\n",
    "    return f'binary({n}) --- {bin_value}'\n",
    "\n",
    "print(binary(1))\n",
    "print(binary(5))\n",
    "print(binary(10))\n"
   ]
  }
 ],
 "metadata": {
  "kernelspec": {
   "display_name": "Python 3",
   "language": "python",
   "name": "python3"
  },
  "language_info": {
   "codemirror_mode": {
    "name": "ipython",
    "version": 3
   },
   "file_extension": ".py",
   "mimetype": "text/x-python",
   "name": "python",
   "nbconvert_exporter": "python",
   "pygments_lexer": "ipython3",
   "version": "3.8.8"
  }
 },
 "nbformat": 4,
 "nbformat_minor": 5
}
