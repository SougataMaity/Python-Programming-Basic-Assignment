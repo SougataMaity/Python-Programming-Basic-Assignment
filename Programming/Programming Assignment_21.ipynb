{
 "cells": [
  {
   "cell_type": "code",
   "execution_count": 18,
   "id": "966a0fd8",
   "metadata": {},
   "outputs": [
    {
     "name": "stdout",
     "output_type": "stream",
     "text": [
      "([5, 6, 7, 8, 9],1) ----> [6, 7, 8, 9, 1]\n",
      "([1, 10, 20, 42],6) ----> [10, 20, 42, 6]\n",
      "([],1) ----> \"No list has been selected\" \n"
     ]
    }
   ],
   "source": [
    "'''Q.1 Write a function that takes a list and a number as arguments. Add the number to the end of list, then remove\n",
    "the first element of the list. The function should then return the updated list.'''\n",
    "\n",
    "def next_in_line(list1, n):\n",
    "    '''Take a list and a number as arguments. Add the number to the end of list, then remove\n",
    "    the first element of the list'''\n",
    "    \n",
    "    if len(list1) > 0:\n",
    "        list2 = list1[1: len(list1)]\n",
    "        list2.insert(len(list2), n)\n",
    "        return f'({list1},{n}) ----> {list2}'\n",
    "    else:\n",
    "        return f'({list1},{n}) ----> \"No list has been selected\" '\n",
    "\n",
    "\n",
    "print(next_in_line([5,6,7,8,9],1))\n",
    "print(next_in_line([1,10,20,42],6))\n",
    "print(next_in_line([],1))"
   ]
  },
  {
   "cell_type": "code",
   "execution_count": 37,
   "id": "47216a8d",
   "metadata": {},
   "outputs": [
    {
     "data": {
      "text/plain": [
       "65700"
      ]
     },
     "execution_count": 37,
     "metadata": {},
     "output_type": "execute_result"
    }
   ],
   "source": [
    "'''Q.2 Create the function that takes a list of dictionaries and returns the sum of people budgets'''\n",
    "\n",
    "def get_budgets(list1):\n",
    "    '''list of dictionaries and returns the sum of people budgets'''\n",
    "    \n",
    "    budget = 0\n",
    "    for i in list1:\n",
    "        budget = budget + (i.get('budget'))\n",
    "    \n",
    "    return budget\n",
    "\n",
    "list1 = [{'name': 'john', 'age':21, 'budget':23000}, {'name':'Steve', 'age':32, 'budget':40000}, \n",
    "         {'name':'Martin', 'age':16, 'budget':2700}]\n",
    "\n",
    "get_budgets(list1)"
   ]
  },
  {
   "cell_type": "code",
   "execution_count": 21,
   "id": "c5ba36c5",
   "metadata": {},
   "outputs": [
    {
     "name": "stdout",
     "output_type": "stream",
     "text": [
      "hello ----> ehllo\n",
      "hacker ----> acehkr\n",
      "javascript ----> aacijprstv\n"
     ]
    }
   ],
   "source": [
    "'''Q.3 Create a function that takes a string and returns a string with its letters in alphabetical order.'''\n",
    "\n",
    "def alphabet_soup(string):\n",
    "    '''takes a string and returns a string with its letters in alphabetical order'''\n",
    "    \n",
    "    list1 = []\n",
    "    for i in string:\n",
    "        list1.append(i)\n",
    "    list1.sort()\n",
    "    \n",
    "    res = ''\n",
    "    for i in list1:\n",
    "        res = res + i \n",
    "    return f'{string} ----> {res}'\n",
    "\n",
    "print(alphabet_soup('hello'))\n",
    "print(alphabet_soup('hacker'))\n",
    "print(alphabet_soup('javascript'))"
   ]
  },
  {
   "cell_type": "code",
   "execution_count": 23,
   "id": "16ecfe66",
   "metadata": {},
   "outputs": [
    {
     "name": "stdout",
     "output_type": "stream",
     "text": [
      "Compund interest is :  18193.97\n",
      "Compund interest is :  15399.26\n"
     ]
    }
   ],
   "source": [
    "'''Q.4 Compund interest'''\n",
    "\n",
    "def compound_interest(p,t,r,n):\n",
    "    '''\n",
    "    p : principal\n",
    "    t : time (year)\n",
    "    r : interest rate\n",
    "    n : period (annually, quartely, weekly or daily)\n",
    "    '''\n",
    "    amount = p * (pow(1+(r/n), t*n))\n",
    "    amount = round(amount,2)\n",
    "    print ('Compund interest is : ', amount)\n",
    "    \n",
    "    return \n",
    "\n",
    "compound_interest(10000, 10, 0.06, 12)\n",
    "compound_interest(3500, 15, 0.1, 4)"
   ]
  },
  {
   "cell_type": "code",
   "execution_count": 29,
   "id": "55a46fb4",
   "metadata": {},
   "outputs": [
    {
     "name": "stdout",
     "output_type": "stream",
     "text": [
      "[9, 2, 'space', 'car', 'lion', 16] ---> [9, 2, 16]\n",
      "['hello', 81, 'basketball', 123, 'fox'] ---> [81, 123]\n",
      "['string', True, 3.3, 1] ---> [1]\n"
     ]
    }
   ],
   "source": [
    "'''Q.5 Write a function that takes a list elements and returns only the integer'''\n",
    "\n",
    "def return_only_integer(list1):\n",
    "    '''list elements and returns only the integer'''\n",
    "    \n",
    "    list2 = []\n",
    "    for i in list1:\n",
    "        if type(i) == int:\n",
    "            list2.append(i)\n",
    "            \n",
    "    return f'{list1} ---> {list2}'\n",
    "\n",
    "print(return_only_integer([9,2,'space','car','lion',16]))\n",
    "print(return_only_integer(['hello',81,'basketball',123,'fox']))\n",
    "print(return_only_integer(['string', True, 3.3, 1]))"
   ]
  }
 ],
 "metadata": {
  "kernelspec": {
   "display_name": "Python 3",
   "language": "python",
   "name": "python3"
  },
  "language_info": {
   "codemirror_mode": {
    "name": "ipython",
    "version": 3
   },
   "file_extension": ".py",
   "mimetype": "text/x-python",
   "name": "python",
   "nbconvert_exporter": "python",
   "pygments_lexer": "ipython3",
   "version": "3.8.8"
  }
 },
 "nbformat": 4,
 "nbformat_minor": 5
}
