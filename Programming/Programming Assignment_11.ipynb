{
 "cells": [
  {
   "cell_type": "code",
   "execution_count": 6,
   "id": "56e0b371",
   "metadata": {},
   "outputs": [
    {
     "name": "stdout",
     "output_type": "stream",
     "text": [
      "What is Your name and how are you\n",
      "What Your name \n"
     ]
    }
   ],
   "source": [
    "'''Q.1 Write a Python program to find words which are greater than given length k?'''\n",
    "\n",
    "def find_word(str1,k):\n",
    "    '''Find word which length greater than k'''\n",
    "    res = ''\n",
    "    for i in str1.split(' '):\n",
    "        if len(i)>k:\n",
    "            res +=i + ' '\n",
    "    return print(f'{str1}\\n{res}')\n",
    "\n",
    "find_word('What is Your name and how are you',3)      "
   ]
  },
  {
   "cell_type": "code",
   "execution_count": 12,
   "id": "2c6eae75",
   "metadata": {},
   "outputs": [
    {
     "name": "stdout",
     "output_type": "stream",
     "text": [
      "I love you\n",
      "I lov you\n"
     ]
    }
   ],
   "source": [
    "'''Q.2 Write a Python program for removing i-th character from a string?'''\n",
    "\n",
    "def remove_i (str1, i):\n",
    "    '''Remove i'th character from a string'''\n",
    "    \n",
    "    res = ''\n",
    "    for letter in range(len(str1)):\n",
    "        if letter != i:\n",
    "            res += str1[letter]\n",
    "            \n",
    "    return print(f'{str1}\\n{res}')\n",
    "\n",
    "remove_i('I love you',5)\n",
    "        "
   ]
  },
  {
   "cell_type": "code",
   "execution_count": 18,
   "id": "aefaf1b3",
   "metadata": {},
   "outputs": [
    {
     "name": "stdout",
     "output_type": "stream",
     "text": [
      "split => ['You', 'know', 'me']\n",
      "join => Youknowme\n"
     ]
    }
   ],
   "source": [
    "'''Q.3 Write a Python program to split and join a string?'''\n",
    "\n",
    "str11 = 'You know me'\n",
    "\n",
    "# split by space\n",
    "split = str11.split(' ')\n",
    "print('split =>', split)\n",
    "\n",
    "# join by space\n",
    "join = ''.join(split)\n",
    "print('join =>', join)\n"
   ]
  },
  {
   "cell_type": "code",
   "execution_count": 6,
   "id": "77d1a64a",
   "metadata": {},
   "outputs": [
    {
     "name": "stdout",
     "output_type": "stream",
     "text": [
      "10000 => binary\n",
      "abui10lp => Non binary\n"
     ]
    }
   ],
   "source": [
    "'''Q.4 Write a Python to check if a given string is binary string or not?'''\n",
    "\n",
    "def check_str_binary(str1):\n",
    "    \n",
    "    type1 = {'0','1'}\n",
    "    type2 = {'0'}\n",
    "    type3 = {'1'}\n",
    "    \n",
    "    if set(str1) == type1 or set(str1) == type2 or set(str1) == type3:\n",
    "        result = 'binary'\n",
    "    else:\n",
    "        result = 'Non binary'\n",
    "        \n",
    "    return f'{str1} => {result}'\n",
    "\n",
    "print(check_str_binary('10000'))\n",
    "print(check_str_binary('abui10lp'))\n"
   ]
  },
  {
   "cell_type": "code",
   "execution_count": 11,
   "id": "9a4ca68a",
   "metadata": {},
   "outputs": [
    {
     "name": "stdout",
     "output_type": "stream",
     "text": [
      "Str1: I love you\n",
      "Str2: you are beautiful\n",
      "['I', 'love', 'are', 'beautiful']\n",
      "\n",
      "Str1: my name is sougata\n",
      "Str2: my institution ineuron.ai\n",
      "['name', 'is', 'sougata', 'institution', 'ineuron.ai']\n",
      "\n"
     ]
    }
   ],
   "source": [
    "'''Q.5 Write a Python program to find uncommon words from two Strings?'''\n",
    "\n",
    "def uncomon(str1, str2):\n",
    "    \n",
    "    list1 = []\n",
    "    str_cont = str1 + ' ' + str2\n",
    "    for i in str_cont.split(' '):\n",
    "        if str_cont.count(i) == 1:\n",
    "            list1.append(i)\n",
    "            \n",
    "    return print(f'Str1: {str1}\\nStr2: {str2}\\n{list1}\\n')\n",
    "\n",
    "uncomon('I love you', 'you are beautiful')\n",
    "uncomon('my name is sougata', 'my institution ineuron.ai')"
   ]
  },
  {
   "cell_type": "code",
   "execution_count": 17,
   "id": "d590735a",
   "metadata": {},
   "outputs": [
    {
     "name": "stdout",
     "output_type": "stream",
     "text": [
      "i love you -duplicete character => {'o'}\n",
      "world is beautiful and you also -duplicete character => {'o', 'i', 'u', 'a', 's', 'd', 'l'}\n"
     ]
    }
   ],
   "source": [
    "'''Q.6 Write a Python to find all duplicate characters in string?'''\n",
    "\n",
    "def find_duplicate(str1):\n",
    "    '''Find duplicate character in a string'''\n",
    "    \n",
    "    list1 = []\n",
    "    for i in str1:\n",
    "        if i == ' ':\n",
    "            continue\n",
    "        else:\n",
    "            if str1.count(i)>1:\n",
    "                list1.append(i)\n",
    "                \n",
    "    return f'{str1} -duplicete character => {set(list1)}'\n",
    "\n",
    "print(find_duplicate('i love you'))\n",
    "print(find_duplicate('world is beautiful and you also'))"
   ]
  },
  {
   "cell_type": "code",
   "execution_count": 7,
   "id": "63d6230a",
   "metadata": {},
   "outputs": [
    {
     "name": "stdout",
     "output_type": "stream",
     "text": [
      "check_special_character(I need as, &) => no\n",
      "check_special_character(you % ikl, &) => Yes\n",
      "check_special_character(you ! mean kth, !) => Yes\n"
     ]
    }
   ],
   "source": [
    "'''Q.7 Write a Python Program to check if a string contains any special character?'''\n",
    "\n",
    "def check_special_character(str1, sp):\n",
    "    \n",
    "    char = '!@#$%^&'\n",
    "    result = 'no'\n",
    "    for i in char:\n",
    "        if i in str1:\n",
    "            result = 'Yes'\n",
    "            \n",
    "    return f'check_special_character({str1}, {sp}) => {result}'\n",
    "\n",
    "print(check_special_character('I need as', '&'))\n",
    "print(check_special_character('you % ikl', '&'))\n",
    "print(check_special_character('you ! mean kth', '!'))       "
   ]
  }
 ],
 "metadata": {
  "kernelspec": {
   "display_name": "Python 3",
   "language": "python",
   "name": "python3"
  },
  "language_info": {
   "codemirror_mode": {
    "name": "ipython",
    "version": 3
   },
   "file_extension": ".py",
   "mimetype": "text/x-python",
   "name": "python",
   "nbconvert_exporter": "python",
   "pygments_lexer": "ipython3",
   "version": "3.8.8"
  }
 },
 "nbformat": 4,
 "nbformat_minor": 5
}
