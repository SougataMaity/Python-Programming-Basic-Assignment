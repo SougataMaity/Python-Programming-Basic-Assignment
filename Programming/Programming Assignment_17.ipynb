{
 "cells": [
  {
   "cell_type": "code",
   "execution_count": 1,
   "id": "c96ddff2",
   "metadata": {},
   "outputs": [
    {
     "name": "stdout",
     "output_type": "stream",
     "text": [
      "evenly_divisible(1,10,20) ---> 0\n",
      "evenly_divisible(1,10,2) ---> 30\n",
      "evenly_divisible(1,10,3) ---> 18\n"
     ]
    }
   ],
   "source": [
    "'''Q.1\n",
    "Create a function that takes three arguments a, b, c and returns the sum of the numbers that are evenly divided c \n",
    "from the range a, b inclusive '''\n",
    "\n",
    "def evenly_divisible(a,b,c):\n",
    "    \n",
    "    sum1 = 0\n",
    "    for i in range(a-1,b+1,c):\n",
    "        sum1 = sum1 + i\n",
    "        \n",
    "    return f'evenly_divisible({a},{b},{c}) ---> {sum1}'\n",
    "\n",
    "print(evenly_divisible(1,10,20))\n",
    "print(evenly_divisible(1,10,2))\n",
    "print(evenly_divisible(1,10,3))"
   ]
  },
  {
   "cell_type": "code",
   "execution_count": 30,
   "id": "f0796e7a",
   "metadata": {},
   "outputs": [
    {
     "data": {
      "text/plain": [
       "True"
      ]
     },
     "execution_count": 30,
     "metadata": {},
     "output_type": "execute_result"
    }
   ],
   "source": [
    "'''Q.2\n",
    "Create a function that return True if returns True if a given inequality expression is correct and false otherwise\n",
    "'''\n",
    "def correct_signs(ie_num):\n",
    "    return ie_num\n",
    "\n",
    "correct_signs(3<7<11)"
   ]
  },
  {
   "cell_type": "code",
   "execution_count": 3,
   "id": "810ab781",
   "metadata": {},
   "outputs": [
    {
     "name": "stdout",
     "output_type": "stream",
     "text": [
      "the aardvark ----> th# ##rdv#rk\n",
      "minnie mouse ----> m?nn?? m??s?\n",
      "shakespeare ----> sh*k*sp**r*\n"
     ]
    }
   ],
   "source": [
    "'''Q.3\n",
    "Create a function that replaces all the vowles in a string with a specified character\n",
    "'''\n",
    "def replace_vowels(string, symbol):\n",
    "    \n",
    "    vowels = 'AaEeIiOoUu'\n",
    "    rep = ''\n",
    "    \n",
    "    for i in string:\n",
    "        if i in vowels:\n",
    "            rep = rep + symbol\n",
    "        else:\n",
    "            rep = rep + i\n",
    "    \n",
    "    return f'{string} ----> {rep}'\n",
    "\n",
    "print(replace_vowels('the aardvark', '#'))\n",
    "print(replace_vowels('minnie mouse', '?'))\n",
    "print(replace_vowels('shakespeare', '*'))"
   ]
  },
  {
   "cell_type": "code",
   "execution_count": 8,
   "id": "8e7b7596",
   "metadata": {},
   "outputs": [
    {
     "name": "stdout",
     "output_type": "stream",
     "text": [
      "factorial(5) ----> 120\n",
      "factorial(3) ----> 6\n",
      "factorial(1) ----> 1\n",
      "factorial(0) ----> 1\n"
     ]
    }
   ],
   "source": [
    "'''Q.4\n",
    "Write a function that calculate the factorial of a number recursively \n",
    "'''\n",
    "def factorial (number):\n",
    "    \n",
    "    if number <= -1:\n",
    "        return 'Please Enter a number which greater than or equal to 0'\n",
    "    \n",
    "    elif number == 0:\n",
    "        return f'factorial(0) ----> 1'\n",
    "    \n",
    "    else:\n",
    "        list1 = range(1, number+1)\n",
    "        fac = 1 \n",
    "        for i in list1:\n",
    "            fac = fac * i\n",
    "    \n",
    "    return f'factorial({number}) ----> {fac}'\n",
    "\n",
    "print(factorial(5))\n",
    "print(factorial(3))\n",
    "print(factorial(1))\n",
    "print(factorial(0))\n"
   ]
  },
  {
   "cell_type": "code",
   "execution_count": 10,
   "id": "df3e19d2",
   "metadata": {},
   "outputs": [
    {
     "name": "stdout",
     "output_type": "stream",
     "text": [
      "hamming_distance(abcde, bcdef) ----> 5\n",
      "hamming_distance(abcde, abcde) ----> 0\n",
      "hamming_distance(strong, strung) ----> 1\n"
     ]
    }
   ],
   "source": [
    "'''Q.5\n",
    "Hamming distance is the number of characters that differ between two strings\n",
    "'''\n",
    "def hamming_distance(str1, str2):\n",
    "    \n",
    "    diffs = 0\n",
    "    for ch1, ch2 in zip(str1, str2):\n",
    "        if ch1 != ch2:\n",
    "            diffs += 1\n",
    "    return f'hamming_distance({str1}, {str2}) ----> {diffs}'\n",
    "\n",
    "print(hamming_distance('abcde', 'bcdef'))\n",
    "print(hamming_distance('abcde', 'abcde'))\n",
    "print(hamming_distance('strong', 'strung'))"
   ]
  }
 ],
 "metadata": {
  "kernelspec": {
   "display_name": "Python 3",
   "language": "python",
   "name": "python3"
  },
  "language_info": {
   "codemirror_mode": {
    "name": "ipython",
    "version": 3
   },
   "file_extension": ".py",
   "mimetype": "text/x-python",
   "name": "python",
   "nbconvert_exporter": "python",
   "pygments_lexer": "ipython3",
   "version": "3.8.8"
  }
 },
 "nbformat": 4,
 "nbformat_minor": 5
}
