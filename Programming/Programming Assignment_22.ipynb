{
 "cells": [
  {
   "cell_type": "code",
   "execution_count": 10,
   "id": "6764332d",
   "metadata": {},
   "outputs": [
    {
     "name": "stdout",
     "output_type": "stream",
     "text": [
      "list_operation(1,10,3) => [3, 6, 9]\n",
      "list_operation(7,9,2) => [8]\n",
      "list_operation(15,20,7) => []\n"
     ]
    }
   ],
   "source": [
    "'''Q.1 Create a function that takes three parameters where: x is the start of the range (inclusive).\n",
    "y is the end of the range (inclusive) and n is the divisor to be checked against.\n",
    "Return an ordered list with numbers in the range that are divisible by the third parameter n.\n",
    "Return an empty list if there are no numbers that are divisible by n.'''\n",
    "\n",
    "def list_operation(x,y,n):\n",
    "    \n",
    "    list1 = []\n",
    "    for i in range(x,y):\n",
    "        if i%n == 0:\n",
    "            list1.append(i)\n",
    "        \n",
    "    return f'list_operation({x},{y},{n}) => {list1}'\n",
    "    \n",
    "print(list_operation(1,10,3))\n",
    "print(list_operation(7,9,2))\n",
    "print(list_operation(15,20,7))"
   ]
  },
  {
   "cell_type": "code",
   "execution_count": 34,
   "id": "462f5269",
   "metadata": {},
   "outputs": [
    {
     "name": "stdout",
     "output_type": "stream",
     "text": [
      "simon_says([1, 2],[5, 1]) => True\n",
      "simon_says([1, 2],[5, 5]) => False\n",
      "simon_says([1, 2, 3, 4, 5],[0, 1, 2, 3, 4]) => True\n",
      "simon_says([1, 2, 3, 4, 5],[5, 5, 1, 2, 3]) => False\n"
     ]
    }
   ],
   "source": [
    "'''Q.2 Create a function that takes in two lists and returns True if the second list follows the first list by one element,\n",
    "and False otherwise. In other words, determine if the second list is the first list shifted to the right by 1.'''\n",
    "\n",
    "def simon_says(list1, list2):\n",
    "    \n",
    "    result = 'False'\n",
    "    for i in zip(list1, list2):\n",
    "        if i[1] + 1 == i[0]:\n",
    "            result = 'True'\n",
    "            \n",
    "    return f'simon_says({list1},{list2}) => {result}'\n",
    "\n",
    "print(simon_says([1,2],[5,1]))\n",
    "print(simon_says([1,2],[5,5]))\n",
    "print(simon_says([1,2,3,4,5],[0,1,2,3,4]))\n",
    "print(simon_says([1,2,3,4,5],[5,5,1,2,3]))"
   ]
  },
  {
   "cell_type": "code",
   "execution_count": 49,
   "id": "3b214c99",
   "metadata": {},
   "outputs": [
    {
     "name": "stdout",
     "output_type": "stream",
     "text": [
      "society_name(['Adam', 'Sarah', 'Malcolm']) => 'AMS' \n",
      "society_name(['Harry', 'Newt', 'Luna', 'Cho']) => 'CHLN' \n",
      "society_name(['Phoebe', 'Chandler', 'Rachel', 'Ross', 'Monica', 'Joey']) => 'CJMPRR' \n"
     ]
    }
   ],
   "source": [
    "'''Q.3 group of friends have decided to start a secret society. The name will be the first letter of each of their names,\n",
    "sorted in alphabetical order.Create a function that takes in a list of names and returns the name of the secret society.'''\n",
    "\n",
    "def society_name(list1):\n",
    "    \n",
    "    res = ''\n",
    "    for i in list1:\n",
    "        res = res+ i[0]\n",
    "    result = ''.join(sorted(res))\n",
    "    \n",
    "    return f\"society_name({list1}) => '{result}' \" \n",
    "\n",
    "print(society_name(['Adam','Sarah','Malcolm']))\n",
    "print(society_name(['Harry','Newt','Luna','Cho']))\n",
    "print(society_name(['Phoebe','Chandler','Rachel','Ross','Monica','Joey']))"
   ]
  },
  {
   "cell_type": "code",
   "execution_count": 54,
   "id": "830ab2ee",
   "metadata": {},
   "outputs": [
    {
     "name": "stdout",
     "output_type": "stream",
     "text": [
      "is_isogram(Algorism) => True\n",
      "is_isogram(PasSword) => False\n",
      "is_isogram(Consecutive) => False\n"
     ]
    }
   ],
   "source": [
    "'''Q.4 An isogram is a word that has no duplicate letters. Create a function that takes a string and returns either True \n",
    "or False depending on whether or not it&#39;s an &quot;isogram&quot;.'''\n",
    "\n",
    "def is_isogram(str1):\n",
    "    \n",
    "    res = ''\n",
    "    result = 'True'\n",
    "    for i in str1.lower():\n",
    "        if i not in res:\n",
    "            res += i\n",
    "        else:\n",
    "            result = 'False'\n",
    "    \n",
    "    return f'is_isogram({str1}) => {result}' \n",
    "\n",
    "print(is_isogram('Algorism'))\n",
    "print(is_isogram('PasSword'))\n",
    "print(is_isogram('Consecutive'))"
   ]
  },
  {
   "cell_type": "code",
   "execution_count": 72,
   "id": "50b09634",
   "metadata": {},
   "outputs": [
    {
     "name": "stdout",
     "output_type": "stream",
     "text": [
      "is_in_order(abc) => True\n",
      "is_in_order(edabit) => False\n",
      "is_in_order(123) => True\n",
      "is_in_order(xyzz) => True\n"
     ]
    }
   ],
   "source": [
    "'''Q.5 Create a function that takes a string and returns True or False, depending on whether the characters are in order or not.'''\n",
    "\n",
    "def is_in_order(str1):\n",
    "    \n",
    "    result = 'False'\n",
    "    sort = ''.join(sorted(str1))\n",
    "    if str1 == sort:\n",
    "        result = 'True'\n",
    "    \n",
    "    return f'is_in_order({str1}) => {result}'\n",
    "\n",
    "print(is_in_order('abc'))\n",
    "print(is_in_order('edabit'))\n",
    "print(is_in_order('123'))\n",
    "print(is_in_order('xyzz'))"
   ]
  }
 ],
 "metadata": {
  "kernelspec": {
   "display_name": "Python 3",
   "language": "python",
   "name": "python3"
  },
  "language_info": {
   "codemirror_mode": {
    "name": "ipython",
    "version": 3
   },
   "file_extension": ".py",
   "mimetype": "text/x-python",
   "name": "python",
   "nbconvert_exporter": "python",
   "pygments_lexer": "ipython3",
   "version": "3.8.8"
  }
 },
 "nbformat": 4,
 "nbformat_minor": 5
}
