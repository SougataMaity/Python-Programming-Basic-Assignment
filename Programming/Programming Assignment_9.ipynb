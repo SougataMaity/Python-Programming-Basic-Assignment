{
 "cells": [
  {
   "cell_type": "code",
   "execution_count": 38,
   "id": "a5167fea",
   "metadata": {},
   "outputs": [
    {
     "name": "stdout",
     "output_type": "stream",
     "text": [
      "No 17 is not disarim\n",
      "No 25 is not disarim\n"
     ]
    }
   ],
   "source": [
    "'''Q.1 Write a python program to check if the given number is a Disarium number'''\n",
    "\n",
    "def is_disarim(number): \n",
    "    '''\n",
    "    A number is said to be the Disarium number \n",
    "    when the sum of its digit raised to the power \n",
    "    of their respective positions is \n",
    "    equal to the number itself.\n",
    "\n",
    "    '''\n",
    "    sum = 0\n",
    "    count = 0\n",
    "    for i in str(number):\n",
    "        count = count + 1\n",
    "        value = pow(int(i), count)\n",
    "        sum = sum + value\n",
    "         \n",
    "    if str(sum) == str(number):\n",
    "        return f'Yes {number} is disarim'\n",
    "    else:\n",
    "        return f'No {number} is not disarim'\n",
    "    \n",
    "print(is_disarim(17))\n",
    "print(is_disarim(25))"
   ]
  },
  {
   "cell_type": "code",
   "execution_count": 48,
   "id": "2167fa78",
   "metadata": {},
   "outputs": [
    {
     "name": "stdout",
     "output_type": "stream",
     "text": [
      "1 to 100 disarim number : \n",
      "1 2 3 4 5 6 7 8 9 89 "
     ]
    }
   ],
   "source": [
    "'''Q.2 Write a python program to print all disarium number between 1 to 100'''\n",
    "\n",
    "lower = 1\n",
    "upper = 100\n",
    "print('{} to {} disarim number  '.format(lower, upper))\n",
    "for i in range(lower, upper+1):\n",
    "    if is_disarim(i)[0] == 'Y':\n",
    "        print(i, end = ' ')"
   ]
  },
  {
   "cell_type": "code",
   "execution_count": 46,
   "id": "7f297c08",
   "metadata": {},
   "outputs": [
    {
     "name": "stdout",
     "output_type": "stream",
     "text": [
      "Please provide a value : 135\n",
      "135 is not a happy number\n"
     ]
    }
   ],
   "source": [
    "'''Q.3 Write a Python program to check if the given number is Happy Number?'''\n",
    "\n",
    "def is_happy(num):\n",
    "    \n",
    "    '''19 is Happy Number,\n",
    "        1^2 + 9^2 = 82\n",
    "        8^2 + 2^2 = 68\n",
    "        6^2 + 8^2 = 100\n",
    "        1^2 + 0^2 + 0^2 = 1\n",
    "        As we reached to 1, 19 is a Happy Number'''\n",
    "    \n",
    "    result = 0\n",
    "    strnum = str(num)\n",
    "    for i in range(len(strnum)):\n",
    "        result += int(strnum[i])**2\n",
    "    \n",
    "    while(result !=1 and result != 4):\n",
    "        result = is_happy(result)\n",
    "\n",
    "    return result\n",
    "\n",
    "value = int(input('Please provide a value : '))\n",
    "endvalue = first(value)\n",
    "\n",
    "if (endvalue == 1): \n",
    "    print(f'{value} is a happy number')\n",
    "elif(endvalue == 4):\n",
    "    print(f'{value} is not a happy number')   "
   ]
  },
  {
   "cell_type": "code",
   "execution_count": 51,
   "id": "81c7c6be",
   "metadata": {},
   "outputs": [
    {
     "name": "stdout",
     "output_type": "stream",
     "text": [
      "Happy number between 1 to 100\n",
      "1 7 10 13 19 23 28 31 32 44 49 68 70 79 82 86 91 94 97 "
     ]
    }
   ],
   "source": [
    "'''Q.4 Write a Python program to print all happy numbers between 1 and 100?'''\n",
    "\n",
    "print('Happy number between 1 to 100')\n",
    "for i in range(1,100):\n",
    "    if is_happy(i) == 1:\n",
    "        print(i, end = ' ')"
   ]
  },
  {
   "cell_type": "code",
   "execution_count": 52,
   "id": "2862686f",
   "metadata": {},
   "outputs": [
    {
     "name": "stdout",
     "output_type": "stream",
     "text": [
      "156 : yes the number is Harshad number\n"
     ]
    }
   ],
   "source": [
    "'''Q.5 Write a Python program to determine whether the given number is a Harshad Number?'''\n",
    "\n",
    "def harsed(num):\n",
    "    \n",
    "    nsum = 0\n",
    "    for i in str(num):\n",
    "        nsum += int(i)\n",
    "    if num%nsum == 0:\n",
    "        result = 'yes the number is Harshad number'\n",
    "    else:\n",
    "        result = 'no the number is not Harshad number'\n",
    "        \n",
    "    return print(f'{num} : {result}')\n",
    "\n",
    "harsed(156)"
   ]
  },
  {
   "cell_type": "code",
   "execution_count": 7,
   "id": "f56a1da5",
   "metadata": {},
   "outputs": [
    {
     "name": "stdout",
     "output_type": "stream",
     "text": [
      "Pronic number between 1 to 5\n",
      "1 => 2\n",
      "2 => 6\n",
      "3 => 12\n",
      "4 => 20\n",
      "5 => 30\n"
     ]
    }
   ],
   "source": [
    "'''Q.6 Write a Python program to print all pronic numbers between 1 and 100?'''\n",
    "\n",
    "def pronic(x,y):\n",
    "    ''' x starting value and y end value of a range'''\n",
    "    \n",
    "    print(f'Pronic number between {x} to {y}')\n",
    "    for i in range(x,y+1):\n",
    "        res = i*(i+1)\n",
    "        print(f'{i} => {res}')\n",
    "\n",
    "pronic(1,5)"
   ]
  }
 ],
 "metadata": {
  "kernelspec": {
   "display_name": "Python 3",
   "language": "python",
   "name": "python3"
  },
  "language_info": {
   "codemirror_mode": {
    "name": "ipython",
    "version": 3
   },
   "file_extension": ".py",
   "mimetype": "text/x-python",
   "name": "python",
   "nbconvert_exporter": "python",
   "pygments_lexer": "ipython3",
   "version": "3.8.8"
  }
 },
 "nbformat": 4,
 "nbformat_minor": 5
}
