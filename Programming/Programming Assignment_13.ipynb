{
 "cells": [
  {
   "cell_type": "code",
   "execution_count": 74,
   "id": "71e47f3e",
   "metadata": {},
   "outputs": [
    {
     "name": "stdout",
     "output_type": "stream",
     "text": [
      "Please enter comma seperated sequence : 100,150,180\n",
      "18,22,24\n"
     ]
    }
   ],
   "source": [
    "'''Q.1 \n",
    "Write a program that calculates and prints the value according to the given formula:\n",
    "Q = Square root of [(2 * C * D)/H]\n",
    "Following are the fixed values of C=50 and H=30\n",
    "D is the variable whose values should be input to your program in a comma-separated sequence\n",
    "\n",
    "'''\n",
    "\n",
    "import math\n",
    "def square_root(seq_D):\n",
    "    '''\n",
    "    Q = Square root of [(2 * C * D)/H]\n",
    "    C is 50 and H is 30\n",
    "    D is comma seperated sequence\n",
    "    '''\n",
    "    \n",
    "    C = 50\n",
    "    H = 30\n",
    "    data = list(seq_D.split(','))\n",
    "    result = []\n",
    "    for D in data:\n",
    "        Q = math.sqrt((2*C*int(D))/H)\n",
    "        result.append(str(int(Q)))\n",
    "            \n",
    "    res=(','.join(result))\n",
    "    print(res)\n",
    "    return \n",
    "\n",
    "seq_D = input('Please enter comma seperated sequence : ')\n",
    "square_root(seq_D)"
   ]
  },
  {
   "cell_type": "code",
   "execution_count": 4,
   "id": "458daee0",
   "metadata": {},
   "outputs": [
    {
     "name": "stdout",
     "output_type": "stream",
     "text": [
      "Enter the number of row : 3\n",
      "Enter the number of column: 5\n"
     ]
    },
    {
     "data": {
      "text/plain": [
       "[[0, 0, 0, 0, 0], [0, 1, 2, 3, 4], [0, 2, 4, 6, 8]]"
      ]
     },
     "execution_count": 4,
     "metadata": {},
     "output_type": "execute_result"
    }
   ],
   "source": [
    "'''Q.2\n",
    "Write a program which takes 2 digits, X,Y as input and generates a 2-dimensional array.\n",
    "The element value in the i-th row and j-th column of the array should be i*j.\n",
    "        Note: i=0,1.., X-1; j=0,1,¡Y-1.\n",
    "\n",
    "Example\n",
    "Suppose the following inputs are given to the program: 3,5\n",
    "Then, the output of the program should be:\n",
    "[[0, 0, 0, 0, 0], [0, 1, 2, 3, 4], [0, 2, 4, 6, 8]]\n",
    "\n",
    "'''\n",
    "def mul_2dim_array(row, column):\n",
    "    \n",
    "    ''' X,Y as input and generates a 2-dimensional array.\n",
    "    The element value in the i-th row and j-th column of the array should be i*j.\n",
    "    i=0,1.., X-1; and  j=0,1,¡Y-1.'''\n",
    "    \n",
    "    zero_array = [[0 for col in range(column)] for row in range(row)]\n",
    "    for row in range(row):\n",
    "        for col in range(column):\n",
    "            zero_array[row][col] = row*col\n",
    "            \n",
    "    return zero_array\n",
    "\n",
    "row    = int(input('Enter the number of row : '))\n",
    "column = int(input('Enter the number of column: '))\n",
    "\n",
    "mul_2dim_array(row, column)"
   ]
  },
  {
   "cell_type": "code",
   "execution_count": 1,
   "id": "352d7a03",
   "metadata": {},
   "outputs": [
    {
     "name": "stdout",
     "output_type": "stream",
     "text": [
      "bag,hello,without,world\n"
     ]
    }
   ],
   "source": [
    "'''Q.3 Write a program that accepts a comma separated sequence of words as input and prints the\n",
    "words in a comma-separated sequence after sorting them alphabetically.'''\n",
    "\n",
    "def alpha_order(comma_seperated_value):\n",
    "    '''Comma Seperated sequence to rearrange alphabetically order'''\n",
    "    list1 = []\n",
    "    data = comma_seperated_value.split(',')\n",
    "    for i in data:\n",
    "        list1.append(i)\n",
    "    \n",
    "    sort = sorted(list1)\n",
    "    res = (','.join(sort))\n",
    "    print(res)\n",
    "    return \n",
    "\n",
    "list1 = 'without,hello,bag,world'\n",
    "alpha_order(list1)"
   ]
  },
  {
   "cell_type": "code",
   "execution_count": 14,
   "id": "19af9ffc",
   "metadata": {},
   "outputs": [
    {
     "name": "stdout",
     "output_type": "stream",
     "text": [
      "again and hello makes perfect practice world\n"
     ]
    }
   ],
   "source": [
    "'''Q.4 Write a program that accepts a comma separated sequence of words as input and prints the\n",
    "words in a comma-separated sequence after sorting them alphabetically '''\n",
    "\n",
    "def sr_alpha_order(space_seperated_value):\n",
    "    '''Space Seperated sequence to rearrange alphabetically order'''\n",
    "    list1 = []\n",
    "    data = space_seperated_value.split(' ')\n",
    "    for i in data:\n",
    "        if i not in list1:\n",
    "            list1.append(i)\n",
    "            \n",
    "    sort = sorted(list1)\n",
    "    print(' '.join(sort))\n",
    "    return \n",
    "\n",
    "\n",
    "list1 = 'hello world and practice makes perfect and hello world again'\n",
    "sr_alpha_order(list1)"
   ]
  },
  {
   "cell_type": "code",
   "execution_count": 32,
   "id": "06382f6d",
   "metadata": {},
   "outputs": [
    {
     "name": "stdout",
     "output_type": "stream",
     "text": [
      "LETTERS --> 10\n",
      "DIGITS --> 3\n"
     ]
    }
   ],
   "source": [
    "'''Q.5\n",
    "Write a program that accepts a sentence and calculate the number of letters and digits.\n",
    "Suppose the following input is supplied to the program:\n",
    "\n",
    "input ---> hello world! 123\n",
    "output should be: LETTERS 10, DIGITS 3\n",
    "\n",
    "'''\n",
    "\n",
    "def count_letter_number(space_seperated):\n",
    "    '''Count Number of letters and numbers'''\n",
    "    \n",
    "    data = space_seperated.split('!')\n",
    "    l_count = 0\n",
    "    for i in data[0]:\n",
    "        if i != ' ':\n",
    "            l_count = l_count + 1\n",
    "\n",
    "    n_count = 0\n",
    "    for j in data[1]:\n",
    "        if j != ' ':\n",
    "            n_count = n_count + 1\n",
    "            \n",
    "    print ('LETTERS -->', l_count)\n",
    "    print ( 'DIGITS -->', n_count)\n",
    "    \n",
    "    return\n",
    "\n",
    "inx = 'hello world! 123'\n",
    "count_letter_number(inx)"
   ]
  },
  {
   "cell_type": "code",
   "execution_count": 64,
   "id": "ef88abb3",
   "metadata": {},
   "outputs": [
    {
     "name": "stdout",
     "output_type": "stream",
     "text": [
      "ABd1234@1\n"
     ]
    }
   ],
   "source": [
    "'''Q.6 \n",
    "A website requires the users to input username and password to regester.Write a python program to \n",
    "cheek the valisity of password input by users.Following are the criteria for checking the password - \n",
    "\n",
    "1. At least 1 letter between [a-z]\n",
    "2. At least 1 number between [0-9]\n",
    "1. At least 1 letter between [A-Z]\n",
    "3. At least 1 character from [$#@]\n",
    "4. Minimum length of transaction password: 6\n",
    "5. Maximum length of transaction password: 12\n",
    "\n",
    "'''\n",
    "# data\n",
    "pas = 'ABd1234@1,aF1#,2w3E*,2We3345'\n",
    "\n",
    "# code\n",
    "import re\n",
    "data = pas.split(',')\n",
    "for i in data:\n",
    "    if len(i) < 6 or len(i) >12:\n",
    "        continue\n",
    "    elif not re.search('[A-Z]',i):\n",
    "        continue\n",
    "    elif not re.search('[a-z]',i):\n",
    "        continue\n",
    "    elif not re.search('[0-9]',i):\n",
    "        continue\n",
    "    elif not re.search('[$#@]',i):\n",
    "        continue\n",
    "        \n",
    "    else:\n",
    "        print(i)\n",
    "        "
   ]
  }
 ],
 "metadata": {
  "kernelspec": {
   "display_name": "Python 3",
   "language": "python",
   "name": "python3"
  },
  "language_info": {
   "codemirror_mode": {
    "name": "ipython",
    "version": 3
   },
   "file_extension": ".py",
   "mimetype": "text/x-python",
   "name": "python",
   "nbconvert_exporter": "python",
   "pygments_lexer": "ipython3",
   "version": "3.8.8"
  }
 },
 "nbformat": 4,
 "nbformat_minor": 5
}
