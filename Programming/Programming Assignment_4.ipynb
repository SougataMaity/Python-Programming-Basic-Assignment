{
 "cells": [
  {
   "cell_type": "code",
   "execution_count": 6,
   "id": "8ad0e285",
   "metadata": {},
   "outputs": [
    {
     "name": "stdout",
     "output_type": "stream",
     "text": [
      "Please enter a number : 5\n",
      "factorial of 5 is 120\n"
     ]
    }
   ],
   "source": [
    "'''Q.1 Write a python program too find the factorial of a number'''\n",
    "\n",
    "number = int(input('Please enter a number : '))\n",
    "\n",
    "fac = 1\n",
    "for i in range(1, number + 1):\n",
    "    fac = fac * i\n",
    "print(f'factorial of {number} is {fac}')"
   ]
  },
  {
   "cell_type": "code",
   "execution_count": 14,
   "id": "ebc3e8cb",
   "metadata": {},
   "outputs": [
    {
     "name": "stdout",
     "output_type": "stream",
     "text": [
      "Please enter a number : 5\n",
      "Multiplication table of 5 is \n",
      "5x1 = 5\n",
      "5x2 = 10\n",
      "5x3 = 15\n",
      "5x4 = 20\n",
      "5x5 = 25\n",
      "5x6 = 30\n",
      "5x7 = 35\n",
      "5x8 = 40\n",
      "5x9 = 45\n",
      "5x10 = 50\n"
     ]
    }
   ],
   "source": [
    "'''Q.2 Write a python program display the multiplication table'''\n",
    "\n",
    "number = int(input ('Please enter a number : '))\n",
    "print(f'Multiplication table of {number} is ')\n",
    "\n",
    "for i in range(1, 11):\n",
    "    print(str(number) + 'x' + str(i) + ' = ' + str(number * i))"
   ]
  },
  {
   "cell_type": "code",
   "execution_count": 20,
   "id": "edb25868",
   "metadata": {},
   "outputs": [
    {
     "name": "stdout",
     "output_type": "stream",
     "text": [
      "Fibonacci sequence of 1 to 15 is\n",
      "1 2 3 5 8 13 21 34 55 89 144 233 377 610 "
     ]
    }
   ],
   "source": [
    "'''Q.3 Write a python program to print Fibonacci sequence'''\n",
    "\n",
    "a = 1\n",
    "b = 1\n",
    "print('Fibonacci sequence of 1 to 15 is')\n",
    "for i in range(1,15):\n",
    "    a,b = b, a+b\n",
    "    print(a , end = ' ')"
   ]
  },
  {
   "cell_type": "code",
   "execution_count": 29,
   "id": "3ce7aec1",
   "metadata": {},
   "outputs": [
    {
     "name": "stdout",
     "output_type": "stream",
     "text": [
      "Please enter a number : 153\n",
      "153 is Amstrong number\n"
     ]
    }
   ],
   "source": [
    "'''Q.4 Write a python program to check Armstrong number'''\n",
    "\n",
    "number = input('Please enter a number : ')\n",
    "sum = 0\n",
    "for i in number:\n",
    "    sum = sum + int(i)**len(number)\n",
    "\n",
    "if number == str(sum):\n",
    "    print(f'{number} is Amstrong number')\n",
    "else:\n",
    "    print(f'{number} is not Amstrong number')"
   ]
  },
  {
   "cell_type": "code",
   "execution_count": 3,
   "id": "c5757add",
   "metadata": {},
   "outputs": [
    {
     "name": "stdout",
     "output_type": "stream",
     "text": [
      "Please enter lower bound of Armstrong number : 1\n",
      "Please enter upper bound of Armstrong number : 200\n",
      "Armstrong number between 1 to 200 is \n",
      "1 2 3 4 5 6 7 8 9 153 "
     ]
    }
   ],
   "source": [
    "'''Q.5 Write a python program to find a armstrong number in a interval'''\n",
    "\n",
    "lower = int(input('Please enter lower bound of Armstrong number : '))\n",
    "upper = int(input('Please enter upper bound of Armstrong number : '))\n",
    "print(f'Armstrong number between {lower} to {upper} is ')\n",
    "\n",
    "for num in range(lower, upper + 1):\n",
    "    order = len(str(num))\n",
    "    sum = 0\n",
    "    temp = num\n",
    "    while temp > 0:\n",
    "        digit = temp % 10\n",
    "        sum += digit ** order\n",
    "        temp //= 10\n",
    "    if num == sum:\n",
    "        print(num, end = ' ')\n"
   ]
  },
  {
   "cell_type": "code",
   "execution_count": 6,
   "id": "044f5129",
   "metadata": {},
   "outputs": [
    {
     "name": "stdout",
     "output_type": "stream",
     "text": [
      "Please enter lower bound of natural number : 5\n",
      "Please enter upper bound of natural number : 10\n",
      "Sum of natural numbers between 5 to 10 is 45 \n"
     ]
    }
   ],
   "source": [
    "'''Q.6 Write a python program to find the sum of Natural numbers'''\n",
    "\n",
    "lower = int(input('Please enter lower bound of natural number : '))\n",
    "sum = 0\n",
    "\n",
    "if lower == 0:\n",
    "    print('Please enter non zero value')\n",
    "elif lower < 0 :\n",
    "    print('Please enter positive value')\n",
    "\n",
    "else:\n",
    "    upper = int(input('Please enter upper bound of natural number : '))\n",
    "    for i in range(lower, upper+1):\n",
    "        sum = sum + i\n",
    "\n",
    "    print(f'Sum of natural numbers between {lower} to {upper} is {sum} ')\n"
   ]
  }
 ],
 "metadata": {
  "kernelspec": {
   "display_name": "Python 3",
   "language": "python",
   "name": "python3"
  },
  "language_info": {
   "codemirror_mode": {
    "name": "ipython",
    "version": 3
   },
   "file_extension": ".py",
   "mimetype": "text/x-python",
   "name": "python",
   "nbconvert_exporter": "python",
   "pygments_lexer": "ipython3",
   "version": "3.8.8"
  }
 },
 "nbformat": 4,
 "nbformat_minor": 5
}
