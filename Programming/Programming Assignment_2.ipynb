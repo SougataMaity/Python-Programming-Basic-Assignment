{
 "cells": [
  {
   "cell_type": "code",
   "execution_count": 1,
   "id": "8443a282",
   "metadata": {},
   "outputs": [
    {
     "name": "stdout",
     "output_type": "stream",
     "text": [
      "Please enter the kilometer : 10\n"
     ]
    },
    {
     "data": {
      "text/plain": [
       "'10 kilometre is 6.21 mile'"
      ]
     },
     "execution_count": 1,
     "metadata": {},
     "output_type": "execute_result"
    }
   ],
   "source": [
    "'''Q.1 Write a python program to convart kilometers to miles'''\n",
    "\n",
    "def km_to_mile(km):\n",
    "    '''\n",
    "    km : kilometre\n",
    "    mile : mile\n",
    "    formula : 1km = 0.621371 mile\n",
    "    '''\n",
    "    mile = round(0.621371 * km, 2)\n",
    "    return f'{km} kilometre is {mile} mile'\n",
    "\n",
    "km = int(input('Please enter the kilometer : '))\n",
    "km_to_mile(km)"
   ]
  },
  {
   "cell_type": "code",
   "execution_count": 4,
   "id": "7440f4fb",
   "metadata": {},
   "outputs": [
    {
     "name": "stdout",
     "output_type": "stream",
     "text": [
      "Please enter the Celsius : 10\n"
     ]
    },
    {
     "data": {
      "text/plain": [
       "'10 degree Celsius is 50.0 degree Fahrenheit'"
      ]
     },
     "execution_count": 4,
     "metadata": {},
     "output_type": "execute_result"
    }
   ],
   "source": [
    "'''Q.2 Write a python program to convert Celsius to Fahrenheit'''\n",
    "\n",
    "def C_to_F(degreeC):\n",
    "    '''\n",
    "    C : Celsius\n",
    "    F : Fahrenheit\n",
    "    method : (C * (9/5)) + 32\n",
    "    '''\n",
    "    F = (degreeC * (9/5)) + 32\n",
    "    return f'{degreeC} degree Celsius is {F} degree Fahrenheit'\n",
    "\n",
    "degreeC = int(input('Please enter the Celsius : '))\n",
    "C_to_F(degreeC)"
   ]
  },
  {
   "cell_type": "code",
   "execution_count": 18,
   "id": "fa4fad23",
   "metadata": {},
   "outputs": [
    {
     "name": "stdout",
     "output_type": "stream",
     "text": [
      "Please enter a year :2021\n",
      "Please enter a month : 12\n",
      "\n",
      "    December 2021\n",
      "Mo Tu We Th Fr Sa Su\n",
      "       1  2  3  4  5\n",
      " 6  7  8  9 10 11 12\n",
      "13 14 15 16 17 18 19\n",
      "20 21 22 23 24 25 26\n",
      "27 28 29 30 31\n",
      "\n"
     ]
    }
   ],
   "source": [
    "'''Q.3 Write a python program to display calender'''\n",
    "\n",
    "import calendar\n",
    "\n",
    "year = int(input('Please enter a year :'))\n",
    "month = int(input('Please enter a month : '))\n",
    "\n",
    "print('\\n', calendar.month(year, month))\n"
   ]
  },
  {
   "cell_type": "code",
   "execution_count": 19,
   "id": "f065850e",
   "metadata": {},
   "outputs": [
    {
     "name": "stdout",
     "output_type": "stream",
     "text": [
      "Please enter tha value of x :2\n",
      "Please enter tha value of y :3\n"
     ]
    },
    {
     "data": {
      "text/plain": [
       "'Result of this quadratic equation 25'"
      ]
     },
     "execution_count": 19,
     "metadata": {},
     "output_type": "execute_result"
    }
   ],
   "source": [
    "'''Q.4 \n",
    "Write a python program to solve quadratic equation\n",
    "equation : x**2 + 2*x*y + y**2\n",
    "'''\n",
    "def quadratic_solve(x,y):\n",
    "    equation = x**2 + 2*x*y + y**2\n",
    "    return f'Result of this quadratic equation {equation}'\n",
    "\n",
    "x = int(input('Please enter tha value of x : '))\n",
    "y = int(input('Please enter tha value of y : '))\n",
    "\n",
    "quadratic_solve(x,y)"
   ]
  },
  {
   "cell_type": "code",
   "execution_count": 26,
   "id": "361603ca",
   "metadata": {},
   "outputs": [
    {
     "name": "stdout",
     "output_type": "stream",
     "text": [
      "please enter the value of x : 10\n",
      "please enter the value of y : 20\n",
      "\n",
      "Without seapping x is 20 y is 10\n"
     ]
    }
   ],
   "source": [
    "'''Q.5 Write a python program to swap two variables without temp variable'''\n",
    "\n",
    "x = input('please enter the value of x : ')\n",
    "y = input('please enter the value of y : ')\n",
    "\n",
    "x,y = y,x\n",
    "print(f'\\nWithout swapping x is {x} and y is {y}')"
   ]
  }
 ],
 "metadata": {
  "kernelspec": {
   "display_name": "Python 3",
   "language": "python",
   "name": "python3"
  },
  "language_info": {
   "codemirror_mode": {
    "name": "ipython",
    "version": 3
   },
   "file_extension": ".py",
   "mimetype": "text/x-python",
   "name": "python",
   "nbconvert_exporter": "python",
   "pygments_lexer": "ipython3",
   "version": "3.8.8"
  }
 },
 "nbformat": 4,
 "nbformat_minor": 5
}
