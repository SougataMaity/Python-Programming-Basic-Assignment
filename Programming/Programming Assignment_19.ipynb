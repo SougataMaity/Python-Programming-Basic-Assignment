{
 "cells": [
  {
   "cell_type": "code",
   "execution_count": 18,
   "id": "efa218db",
   "metadata": {},
   "outputs": [
    {
     "name": "stdout",
     "output_type": "stream",
     "text": [
      "String ----> SSttrriinngg\n",
      "Hello World! ----> HHeelllloo  WWoorrlldd!!\n",
      "1234!_  ----> 11223344!!__  \n"
     ]
    }
   ],
   "source": [
    "'''Q.1 Create a function that takes a string and returns a string in which each character is repeated once.'''\n",
    "\n",
    "def double_char(string):\n",
    "    \n",
    "    result = ''\n",
    "    for i in string:\n",
    "        result = result + i*2\n",
    "        \n",
    "    return f'{string} ----> {result}'\n",
    "\n",
    "print(double_char('String'))\n",
    "print(double_char('Hello World!'))\n",
    "print(double_char('1234!_ '))"
   ]
  },
  {
   "cell_type": "code",
   "execution_count": 12,
   "id": "ed904077",
   "metadata": {},
   "outputs": [
    {
     "name": "stdout",
     "output_type": "stream",
     "text": [
      "True ---> False\n",
      "False ---> True\n",
      "O ---> boolean expected\n",
      "None ---> boolean expected\n"
     ]
    }
   ],
   "source": [
    "'''Q.2 Create a function that reverses a boolean value and returns the string \"boolean expected\" if another variable type is given'''\n",
    "\n",
    "def reverse(boolean):\n",
    "    \n",
    "    if boolean == True:\n",
    "        return f'{boolean} ---> False'\n",
    "    \n",
    "    elif boolean == False:\n",
    "        return f'{boolean} ---> True'\n",
    "    \n",
    "    elif boolean == 'O':\n",
    "        return f'{boolean} ---> boolean expected'\n",
    "        \n",
    "    elif boolean == None:\n",
    "        return f'{boolean} ---> boolean expected'    \n",
    "    else:\n",
    "        print('Error')\n",
    "\n",
    "print(reverse(True))\n",
    "print(reverse(False))\n",
    "print(reverse('O'))\n",
    "print(reverse(None))"
   ]
  },
  {
   "cell_type": "code",
   "execution_count": 16,
   "id": "b1d203ab",
   "metadata": {},
   "outputs": [
    {
     "name": "stdout",
     "output_type": "stream",
     "text": [
      "num_layers(1) ----> 0.001m\n",
      "num_layers(4) ----> 0.008m\n",
      "num_layers(21) ----> 1048.576m\n"
     ]
    }
   ],
   "source": [
    "'''Q.3 Create a function that returns the thickness (in meters) of a piece of paper after folding it n number of time.'''\n",
    "\n",
    "def num_layers(n):\n",
    "    '''Paper folded once is 1mm (0.0001m)'''\n",
    "    f = 0.001\n",
    "    result = f*2**(n-1)\n",
    "    return f'num_layers({n}) ----> {result}m'\n",
    "\n",
    "print(num_layers(1))\n",
    "print(num_layers(4))\n",
    "print(num_layers(21))"
   ]
  },
  {
   "cell_type": "code",
   "execution_count": 13,
   "id": "80797987",
   "metadata": {},
   "outputs": [
    {
     "name": "stdout",
     "output_type": "stream",
     "text": [
      "eDaBiT ---> [1, 3, 5]\n",
      "eQuINoX ---> [1, 3, 4, 6]\n",
      "determine ---> []\n",
      "STRIKE ---> [0, 1, 2, 3, 4, 5]\n"
     ]
    }
   ],
   "source": [
    "'''Q.4 Create a function that takes a single string as argument and returns an ordered list containing the indices of all\n",
    "capital letters in the string.'''\n",
    "\n",
    "def index_of_caps(string):\n",
    "    \n",
    "    list1 = []\n",
    "    str_cap = string.upper()\n",
    "    \n",
    "    for i in range(len(string)):\n",
    "        for j in range(len(str_cap)):\n",
    "            if string[i] == str_cap[j]:\n",
    "                list1.append(i)\n",
    "    \n",
    "    return f'{string} ---> {list1}'\n",
    "\n",
    "print(index_of_caps('eDaBiT'))\n",
    "print(index_of_caps('eQuINoX'))\n",
    "print(index_of_caps('determine'))\n",
    "print(index_of_caps('STRIKE'))\n",
    "        "
   ]
  },
  {
   "cell_type": "code",
   "execution_count": 14,
   "id": "9c2e222c",
   "metadata": {},
   "outputs": [
    {
     "name": "stdout",
     "output_type": "stream",
     "text": [
      "8 ----> [2, 4, 6, 8]\n",
      "4 ----> [2, 4]\n",
      "2 ----> [2]\n"
     ]
    }
   ],
   "source": [
    "'''Q.5 Using list comprehensions, creat a function that finds all even numbers from 1 to given numbers.'''\n",
    "def find_even_num(n):\n",
    "    \n",
    "    list1 = []\n",
    "    for i in range(1, n+1):\n",
    "        if i%2 == 0:\n",
    "            list1.append(i)\n",
    "            \n",
    "    return f'{n} ----> {list1}'\n",
    "\n",
    "print(find_even_num(8))\n",
    "print(find_even_num(4))\n",
    "print(find_even_num(2))"
   ]
  }
 ],
 "metadata": {
  "kernelspec": {
   "display_name": "Python 3",
   "language": "python",
   "name": "python3"
  },
  "language_info": {
   "codemirror_mode": {
    "name": "ipython",
    "version": 3
   },
   "file_extension": ".py",
   "mimetype": "text/x-python",
   "name": "python",
   "nbconvert_exporter": "python",
   "pygments_lexer": "ipython3",
   "version": "3.8.8"
  }
 },
 "nbformat": 4,
 "nbformat_minor": 5
}
